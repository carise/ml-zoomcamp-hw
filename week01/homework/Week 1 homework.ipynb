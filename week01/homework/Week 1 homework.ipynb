{
 "cells": [
  {
   "cell_type": "code",
   "execution_count": 2,
   "id": "80dcf3a7-1673-45d3-8351-3d13a4065a93",
   "metadata": {},
   "outputs": [],
   "source": [
    "import pandas as pd\n",
    "import numpy as np"
   ]
  },
  {
   "cell_type": "code",
   "execution_count": 3,
   "id": "a1bb3b22-7794-46a3-88b5-5f079e11f289",
   "metadata": {},
   "outputs": [
    {
     "data": {
      "text/plain": [
       "'2.0.3'"
      ]
     },
     "execution_count": 3,
     "metadata": {},
     "output_type": "execute_result"
    }
   ],
   "source": [
    "# Question 1\n",
    "\n",
    "pd.__version__"
   ]
  },
  {
   "cell_type": "code",
   "execution_count": 4,
   "id": "17dce7ef-738e-4ccb-8c92-45db59940924",
   "metadata": {},
   "outputs": [
    {
     "data": {
      "text/plain": [
       "10"
      ]
     },
     "execution_count": 4,
     "metadata": {},
     "output_type": "execute_result"
    }
   ],
   "source": [
    "# Question 2\n",
    "\n",
    "housing_csv = pd.read_csv('housing.csv')\n",
    "len(housing_csv.columns)"
   ]
  },
  {
   "cell_type": "code",
   "execution_count": 9,
   "id": "995df3ff-341b-44ec-bec1-a58b279f1f0c",
   "metadata": {},
   "outputs": [
    {
     "name": "stdout",
     "output_type": "stream",
     "text": [
      "which columns have null?\n",
      "longitude             False\n",
      "latitude              False\n",
      "housing_median_age    False\n",
      "total_rooms           False\n",
      "total_bedrooms         True\n",
      "population            False\n",
      "households            False\n",
      "median_income         False\n",
      "median_house_value    False\n",
      "ocean_proximity       False\n",
      "dtype: bool\n",
      "which columns have na?\n",
      "longitude             False\n",
      "latitude              False\n",
      "housing_median_age    False\n",
      "total_rooms           False\n",
      "total_bedrooms         True\n",
      "population            False\n",
      "households            False\n",
      "median_income         False\n",
      "median_house_value    False\n",
      "ocean_proximity       False\n",
      "dtype: bool\n"
     ]
    }
   ],
   "source": [
    "# Question 3\n",
    "\n",
    "print(\"which columns have null?\")\n",
    "print(housing_csv.isnull().any())\n",
    "\n",
    "print(\"which columns have na?\")\n",
    "print(housing_csv.isna().any())"
   ]
  },
  {
   "cell_type": "code",
   "execution_count": 13,
   "id": "090fa5a7-ee21-4a9a-8684-9700ff9ea9e8",
   "metadata": {},
   "outputs": [
    {
     "name": "stdout",
     "output_type": "stream",
     "text": [
      "['NEAR BAY' '<1H OCEAN' 'INLAND' 'NEAR OCEAN' 'ISLAND']\n",
      "5\n"
     ]
    }
   ],
   "source": [
    "# Question 4\n",
    "\n",
    "print(housing_csv[\"ocean_proximity\"].unique())\n",
    "print(len(housing_csv[\"ocean_proximity\"].unique()))"
   ]
  },
  {
   "cell_type": "code",
   "execution_count": 24,
   "id": "fbd3a17c-83d9-491e-81fe-ee40b39dbda4",
   "metadata": {},
   "outputs": [
    {
     "data": {
      "text/plain": [
       "259212.31179039303"
      ]
     },
     "execution_count": 24,
     "metadata": {},
     "output_type": "execute_result"
    }
   ],
   "source": [
    "# Question 5\n",
    "\n",
    "housing_csv[housing_csv[\"ocean_proximity\"] == \"NEAR BAY\"][\"median_house_value\"].mean()"
   ]
  },
  {
   "cell_type": "code",
   "execution_count": 35,
   "id": "7ad7f1fa-7cb1-4ae4-aee0-21d6da51bfd8",
   "metadata": {},
   "outputs": [
    {
     "name": "stdout",
     "output_type": "stream",
     "text": [
      "before fillna\n",
      "537.8705525375618\n",
      "after fillna\n",
      "537.8705570251938\n"
     ]
    }
   ],
   "source": [
    "# Question 6\n",
    "\n",
    "print(\"before fillna\")\n",
    "print(housing_csv[\"total_bedrooms\"].mean())\n",
    "print(\"after fillna using the average total bedrooms\")\n",
    "print(housing_csv[\"total_bedrooms\"].fillna(537.871).mean())"
   ]
  },
  {
   "cell_type": "code",
   "execution_count": 5,
   "id": "79a5826c-30ef-4e48-b327-22bc9ff53db7",
   "metadata": {},
   "outputs": [
    {
     "name": "stdout",
     "output_type": "stream",
     "text": [
      "[[  27. 1675.  521.]\n",
      " [  52. 2359.  591.]\n",
      " [  52. 2127.  512.]\n",
      " [  52.  996.  264.]\n",
      " [  29.  716.  214.]]\n",
      "[[  27.   52.   52.   52.   29.]\n",
      " [1675. 2359. 2127.  996.  716.]\n",
      " [ 521.  591.  512.  264.  214.]]\n",
      "[[9.6820000e+03 3.5105300e+05 9.1357000e+04]\n",
      " [3.5105300e+05 1.4399307e+07 3.7720360e+06]\n",
      " [9.1357000e+04 3.7720360e+06 9.9835800e+05]]\n",
      "[[ 9.19403586e-04 -3.66412216e-05  5.43072261e-05]\n",
      " [-3.66412216e-05  8.23303633e-06 -2.77534485e-05]\n",
      " [ 5.43072261e-05 -2.77534485e-05  1.00891325e-04]]\n",
      "[23.12330961 -1.48124183  5.69922946]\n"
     ]
    }
   ],
   "source": [
    "# Question 7\n",
    "\n",
    "sel = housing_csv[housing_csv[\"ocean_proximity\"] == \"ISLAND\"][[\"housing_median_age\", \"total_rooms\", \"total_bedrooms\"]]\n",
    "X = sel.to_numpy()\n",
    "print(X)\n",
    "print(X.T)\n",
    "XTX = np.dot(X.T, X)\n",
    "print(XTX)\n",
    "XTX_inv = np.linalg.inv(XTX)\n",
    "print(XTX_inv)\n",
    "y = [950, 1300, 800, 1000, 1300]\n",
    "w = np.dot(np.dot(XTX_inv, X.T), y)\n",
    "print(w)"
   ]
  },
  {
   "cell_type": "code",
   "execution_count": null,
   "id": "adea4b47-6306-42a0-8d62-b92585d7347a",
   "metadata": {},
   "outputs": [],
   "source": []
  }
 ],
 "metadata": {
  "kernelspec": {
   "display_name": "Python 3 (ipykernel)",
   "language": "python",
   "name": "python3"
  },
  "language_info": {
   "codemirror_mode": {
    "name": "ipython",
    "version": 3
   },
   "file_extension": ".py",
   "mimetype": "text/x-python",
   "name": "python",
   "nbconvert_exporter": "python",
   "pygments_lexer": "ipython3",
   "version": "3.10.6"
  }
 },
 "nbformat": 4,
 "nbformat_minor": 5
}
