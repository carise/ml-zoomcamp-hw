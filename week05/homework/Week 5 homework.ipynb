{
 "cells": [
  {
   "cell_type": "code",
   "execution_count": 1,
   "id": "665f2c03-cd3f-4655-b24f-95377952048a",
   "metadata": {},
   "outputs": [],
   "source": [
    "import pandas as pd\n",
    "import numpy as np\n",
    "import matplotlib.pyplot as plt\n",
    "import seaborn as sns\n",
    "from sklearn.feature_extraction import DictVectorizer\n",
    "from sklearn.linear_model import LogisticRegression\n",
    "from sklearn.model_selection import KFold, train_test_split\n",
    "from sklearn.metrics import auc, mutual_info_score, roc_auc_score\n",
    "\n",
    "%matplotlib inline"
   ]
  },
  {
   "cell_type": "markdown",
   "id": "9aff4471-ab5f-4b5a-a1a6-11164788ebf4",
   "metadata": {},
   "source": [
    "# Data preparation"
   ]
  },
  {
   "cell_type": "code",
   "execution_count": 4,
   "id": "4af6314f-0ca9-4795-867e-3efc07c2f20a",
   "metadata": {},
   "outputs": [
    {
     "name": "stdout",
     "output_type": "stream",
     "text": [
      "--2023-10-09 12:54:05--  https://raw.githubusercontent.com/DataTalksClub/machine-learning-zoomcamp/master/cohorts/2023/05-deployment/homework/model1.bin\n",
      "Resolving raw.githubusercontent.com (raw.githubusercontent.com)... 185.199.108.133, 185.199.110.133, 185.199.109.133, ...\n",
      "Connecting to raw.githubusercontent.com (raw.githubusercontent.com)|185.199.108.133|:443... connected.\n",
      "HTTP request sent, awaiting response... 200 OK\n",
      "Length: 842 [application/octet-stream]\n",
      "Saving to: ‘model1.bin’\n",
      "\n",
      "model1.bin          100%[===================>]     842  --.-KB/s    in 0s      \n",
      "\n",
      "2023-10-09 12:54:05 (17.8 MB/s) - ‘model1.bin’ saved [842/842]\n",
      "\n",
      "--2023-10-09 12:54:05--  https://raw.githubusercontent.com/DataTalksClub/machine-learning-zoomcamp/master/cohorts/2023/05-deployment/homework/dv.bin\n",
      "Resolving raw.githubusercontent.com (raw.githubusercontent.com)... 185.199.110.133, 185.199.108.133, 185.199.109.133, ...\n",
      "Connecting to raw.githubusercontent.com (raw.githubusercontent.com)|185.199.110.133|:443... connected.\n",
      "HTTP request sent, awaiting response... 200 OK\n",
      "Length: 560 [application/octet-stream]\n",
      "Saving to: ‘dv.bin’\n",
      "\n",
      "dv.bin              100%[===================>]     560  --.-KB/s    in 0s      \n",
      "\n",
      "2023-10-09 12:54:06 (10.5 MB/s) - ‘dv.bin’ saved [560/560]\n",
      "\n"
     ]
    }
   ],
   "source": [
    "PREFIX = \"https://raw.githubusercontent.com/DataTalksClub/machine-learning-zoomcamp/master/cohorts/2023/05-deployment/homework\"\n",
    "!wget $PREFIX/model1.bin\n",
    "!wget $PREFIX/dv.bin"
   ]
  },
  {
   "cell_type": "markdown",
   "id": "f81a09f3-32ce-4a64-9779-3d6157028bc4",
   "metadata": {},
   "source": [
    "# Question 1"
   ]
  },
  {
   "cell_type": "code",
   "execution_count": null,
   "id": "2d1307a4-e8d6-4d25-96b0-04777fd42e61",
   "metadata": {},
   "outputs": [],
   "source": [
    "# pipenv"
   ]
  },
  {
   "cell_type": "markdown",
   "id": "bc3fef78-b12b-4427-9c26-c155c4582ea2",
   "metadata": {},
   "source": [
    "2023.10.3"
   ]
  },
  {
   "cell_type": "markdown",
   "id": "71b4c502-48b9-47c7-bf0e-dbad3d93f1eb",
   "metadata": {},
   "source": [
    "# Question 2"
   ]
  },
  {
   "cell_type": "markdown",
   "id": "f3899a29-4ae7-41ff-bfae-ce6f716453f1",
   "metadata": {},
   "source": [
    "sha256:0c275a06c5190c5ce00af0acbb61c06374087949f643ef32d355ece12c4db043"
   ]
  },
  {
   "cell_type": "markdown",
   "id": "8fe6601a-c0eb-4f06-92aa-f409b81d9fbc",
   "metadata": {},
   "source": [
    "# Question 3"
   ]
  },
  {
   "cell_type": "code",
   "execution_count": 2,
   "id": "8375e7ce-b08f-466d-b133-8fe8c7b70da3",
   "metadata": {},
   "outputs": [],
   "source": [
    "import pickle"
   ]
  },
  {
   "cell_type": "code",
   "execution_count": 6,
   "id": "07632784-d073-426e-b17e-3d012ba055a4",
   "metadata": {},
   "outputs": [
    {
     "data": {
      "text/plain": [
       "(DictVectorizer(sparse=False), LogisticRegression())"
      ]
     },
     "execution_count": 6,
     "metadata": {},
     "output_type": "execute_result"
    }
   ],
   "source": [
    "with open('files/dv.bin', 'rb') as fp:\n",
    "    dv = pickle.load(fp)\n",
    "\n",
    "with open('files/model1.bin', 'rb') as fp:\n",
    "    model = pickle.load(fp)\n",
    "\n",
    "dv, model"
   ]
  },
  {
   "cell_type": "code",
   "execution_count": 7,
   "id": "a4f811a4-eb81-48d6-b3ea-9e7ad52b7cda",
   "metadata": {},
   "outputs": [],
   "source": [
    "client = {\"job\": \"retired\", \"duration\": 445, \"poutcome\": \"success\"}"
   ]
  },
  {
   "cell_type": "code",
   "execution_count": 11,
   "id": "2c012827-2cda-427a-9663-864085b621f7",
   "metadata": {},
   "outputs": [],
   "source": [
    "X = dv.transform([client])"
   ]
  },
  {
   "cell_type": "code",
   "execution_count": 14,
   "id": "ae25997e-f2e1-4d79-bf24-ab7a15a32693",
   "metadata": {},
   "outputs": [
    {
     "data": {
      "text/plain": [
       "0.9019309332297606"
      ]
     },
     "execution_count": 14,
     "metadata": {},
     "output_type": "execute_result"
    }
   ],
   "source": [
    "model.predict_proba(X)[0, 1]"
   ]
  },
  {
   "cell_type": "markdown",
   "id": "2afe3c3e-98ae-41a2-ae83-82236ffa7dd6",
   "metadata": {},
   "source": [
    "# Question 4"
   ]
  },
  {
   "cell_type": "markdown",
   "id": "29e47528-535b-4db5-9ea5-9c01ef34d28e",
   "metadata": {},
   "source": [
    "```\n",
    ">>> import requests\n",
    ">>> url = 'http://127.0.0.1:5000/score'\n",
    ">>> client = {\"job\": \"unknown\", \"duration\": 270, \"poutcome\": \"failure\"}\n",
    ">>> requests.post(url, json=client).json()\n",
    "{'score': 0.13968947052356817}\n",
    "```"
   ]
  },
  {
   "cell_type": "markdown",
   "id": "a5886d5b-4d11-420e-8472-dbf48a2ba442",
   "metadata": {},
   "source": [
    "# Question 5"
   ]
  },
  {
   "cell_type": "markdown",
   "id": "ead6d9f8-c74f-46a9-abe8-ed18658e1a81",
   "metadata": {},
   "source": [
    "```\n",
    "REPOSITORY              TAG            IMAGE ID       CREATED         SIZE\n",
    "svizor/zoomcamp-model   3.10.12-slim   08266c8f0c4b   4 days ago      147MB\n",
    "```"
   ]
  },
  {
   "cell_type": "markdown",
   "id": "e57d16c3-b4f0-436f-9e17-0eeeb38b0a48",
   "metadata": {},
   "source": [
    "# Question 6"
   ]
  },
  {
   "cell_type": "markdown",
   "id": "063aa47c-f89e-40d7-802c-577a23c348ca",
   "metadata": {},
   "source": [
    "0.726936946355423"
   ]
  },
  {
   "cell_type": "code",
   "execution_count": null,
   "id": "d0b8bc0d-f0d5-43eb-ba7d-f93dbb1d028e",
   "metadata": {},
   "outputs": [],
   "source": []
  }
 ],
 "metadata": {
  "kernelspec": {
   "display_name": "Python 3 (ipykernel)",
   "language": "python",
   "name": "python3"
  },
  "language_info": {
   "codemirror_mode": {
    "name": "ipython",
    "version": 3
   },
   "file_extension": ".py",
   "mimetype": "text/x-python",
   "name": "python",
   "nbconvert_exporter": "python",
   "pygments_lexer": "ipython3",
   "version": "3.10.6"
  }
 },
 "nbformat": 4,
 "nbformat_minor": 5
}
