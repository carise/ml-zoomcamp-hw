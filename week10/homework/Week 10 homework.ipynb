{
 "cells": [
  {
   "cell_type": "markdown",
   "id": "09c308bf-2641-4a7e-883f-caf5400cdce4",
   "metadata": {},
   "source": [
    "# Question 1"
   ]
  },
  {
   "cell_type": "code",
   "execution_count": 1,
   "id": "c03e78e8-a58d-4728-b559-ee282f445092",
   "metadata": {},
   "outputs": [],
   "source": [
    "# response from server when running\n",
    "# cd machine-learning-zoomcamp/cohorts/2023/05-deployment/homework\n",
    "# docker build -t zoomcamp-model:hw10 .\n",
    "# docker run -it --rm -p 9696:9696 zoomcamp-model:hw10\n",
    "# python q6_test.py\n",
    "#\n",
    "# {'get_credit': True, 'get_credit_probability': 0.726936946355423}"
   ]
  },
  {
   "cell_type": "markdown",
   "id": "dfb00553-f76a-42e9-a62a-5fd3abfd9261",
   "metadata": {},
   "source": [
    "# Question 2"
   ]
  },
  {
   "cell_type": "code",
   "execution_count": 3,
   "id": "c58d9c0f-ab0e-494c-b94c-e48bcbe3dac3",
   "metadata": {},
   "outputs": [
    {
     "name": "stdout",
     "output_type": "stream",
     "text": [
      "kind version 0.19.0\n"
     ]
    }
   ],
   "source": [
    "! kind --version"
   ]
  },
  {
   "cell_type": "markdown",
   "id": "406bc8d9-72fe-4e1d-8000-b1611105d31a",
   "metadata": {},
   "source": [
    "# Question 3"
   ]
  },
  {
   "cell_type": "code",
   "execution_count": 4,
   "id": "906e7fc2-2f86-45af-a546-9a176d3f5a09",
   "metadata": {},
   "outputs": [],
   "source": [
    "# ran into issues with colima + kind 0.20.0. see https://github.com/kubernetes-sigs/kind/issues/3277\n",
    "# downgrading to kind 0.19.0 helped me get past the issue"
   ]
  },
  {
   "cell_type": "code",
   "execution_count": 7,
   "id": "8db6b5f7-2ec4-4ef1-b178-c8da0cf1df4a",
   "metadata": {},
   "outputs": [
    {
     "name": "stdout",
     "output_type": "stream",
     "text": [
      "NAME         TYPE        CLUSTER-IP   EXTERNAL-IP   PORT(S)   AGE\n",
      "kubernetes   ClusterIP   10.96.0.1    <none>        443/TCP   3m25s\n"
     ]
    }
   ],
   "source": [
    "!kubectl get services"
   ]
  }
 ],
 "metadata": {
  "kernelspec": {
   "display_name": "Python 3 (ipykernel)",
   "language": "python",
   "name": "python3"
  },
  "language_info": {
   "codemirror_mode": {
    "name": "ipython",
    "version": 3
   },
   "file_extension": ".py",
   "mimetype": "text/x-python",
   "name": "python",
   "nbconvert_exporter": "python",
   "pygments_lexer": "ipython3",
   "version": "3.9.6"
  }
 },
 "nbformat": 4,
 "nbformat_minor": 5
}
