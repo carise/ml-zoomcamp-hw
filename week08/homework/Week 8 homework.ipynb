{
 "cells": [
  {
   "cell_type": "code",
   "execution_count": 1,
   "id": "665f2c03-cd3f-4655-b24f-95377952048a",
   "metadata": {
    "execution": {
     "iopub.execute_input": "2023-11-19T07:43:42.567788Z",
     "iopub.status.busy": "2023-11-19T07:43:42.567396Z",
     "iopub.status.idle": "2023-11-19T07:43:45.568216Z",
     "shell.execute_reply": "2023-11-19T07:43:45.567488Z",
     "shell.execute_reply.started": "2023-11-19T07:43:42.567599Z"
    }
   },
   "outputs": [
    {
     "name": "stderr",
     "output_type": "stream",
     "text": [
      "2023-11-19 07:43:44.048632: I tensorflow/core/util/util.cc:169] oneDNN custom operations are on. You may see slightly different numerical results due to floating-point round-off errors from different computation orders. To turn them off, set the environment variable `TF_ENABLE_ONEDNN_OPTS=0`.\n"
     ]
    }
   ],
   "source": [
    "import pandas as pd\n",
    "import numpy as np\n",
    "import matplotlib.pyplot as plt\n",
    "import seaborn as sns\n",
    "\n",
    "import tensorflow as tf\n",
    "from tensorflow import keras\n",
    "\n",
    "%matplotlib inline"
   ]
  },
  {
   "cell_type": "markdown",
   "id": "9aff4471-ab5f-4b5a-a1a6-11164788ebf4",
   "metadata": {},
   "source": [
    "# Data preparation"
   ]
  },
  {
   "cell_type": "code",
   "execution_count": 2,
   "id": "27cbe691-d3b3-429a-a508-c1d42ea9fbd9",
   "metadata": {
    "execution": {
     "iopub.execute_input": "2023-11-19T07:43:45.572295Z",
     "iopub.status.busy": "2023-11-19T07:43:45.571542Z",
     "iopub.status.idle": "2023-11-19T07:43:45.577651Z",
     "shell.execute_reply": "2023-11-19T07:43:45.576746Z",
     "shell.execute_reply.started": "2023-11-19T07:43:45.572255Z"
    }
   },
   "outputs": [],
   "source": [
    "from tensorflow.keras.applications.xception import Xception, preprocess_input\n",
    "from tensorflow.keras.preprocessing.image import ImageDataGenerator"
   ]
  },
  {
   "cell_type": "code",
   "execution_count": 3,
   "id": "650eef88-fd6a-4772-9fd4-5d3f00fcafb3",
   "metadata": {
    "execution": {
     "iopub.execute_input": "2023-11-19T07:43:45.578974Z",
     "iopub.status.busy": "2023-11-19T07:43:45.578731Z",
     "iopub.status.idle": "2023-11-19T07:43:45.585409Z",
     "shell.execute_reply": "2023-11-19T07:43:45.584592Z",
     "shell.execute_reply.started": "2023-11-19T07:43:45.578955Z"
    }
   },
   "outputs": [],
   "source": [
    "def make_model(input_shape, conv_filters, conv_kernel_size, pool_size, learning_rate=0.002, momentum=0.8):\n",
    "    inputs = keras.Input(shape=input_shape)\n",
    "\n",
    "    cnn_layer = keras.layers.Conv2D(\n",
    "        conv_filters,\n",
    "        conv_kernel_size,\n",
    "        activation='relu',\n",
    "    )(inputs)\n",
    "    \n",
    "    pooling_layer = keras.layers.MaxPooling2D(pool_size=pool_size)(cnn_layer)\n",
    "    vectors = keras.layers.Flatten()(pooling_layer)\n",
    "    inner = keras.layers.Dense(64, activation='relu')(vectors)\n",
    "    outputs = keras.layers.Dense(1, activation='sigmoid')(inner)\n",
    "    \n",
    "    model = keras.Model(inputs, outputs)\n",
    "    \n",
    "    optimizer = keras.optimizers.SGD(learning_rate=learning_rate, momentum=momentum)\n",
    "    loss = keras.losses.BinaryCrossentropy()\n",
    "    \n",
    "    model.compile(optimizer=optimizer, loss=loss, metrics=['accuracy'])\n",
    "\n",
    "    return model\n"
   ]
  },
  {
   "cell_type": "code",
   "execution_count": 4,
   "id": "d1c0d364-21e1-4566-8842-c60bb4a0b9e7",
   "metadata": {
    "execution": {
     "iopub.execute_input": "2023-11-19T07:43:45.586759Z",
     "iopub.status.busy": "2023-11-19T07:43:45.586387Z",
     "iopub.status.idle": "2023-11-19T07:43:45.726138Z",
     "shell.execute_reply": "2023-11-19T07:43:45.725389Z",
     "shell.execute_reply.started": "2023-11-19T07:43:45.586737Z"
    }
   },
   "outputs": [
    {
     "name": "stdout",
     "output_type": "stream",
     "text": [
      "Found 3677 images belonging to 2 classes.\n",
      "Found 918 images belonging to 2 classes.\n"
     ]
    }
   ],
   "source": [
    "# total images in train/test is 4595\n",
    "# validation_split is 0.25\n",
    "train_data_dir = './data/train'\n",
    "test_data_dir = './data/test'\n",
    "train_gen = ImageDataGenerator(preprocessing_function=preprocess_input)\n",
    "\n",
    "train_ds = train_gen.flow_from_directory(\n",
    "    train_data_dir,\n",
    "    target_size=(150, 150),\n",
    "    batch_size=32,\n",
    "    class_mode='binary',\n",
    ")\n",
    "\n",
    "val_ds = train_gen.flow_from_directory(\n",
    "    test_data_dir,\n",
    "    target_size=(150, 150),\n",
    "    batch_size=32,\n",
    "    class_mode='binary'\n",
    ")"
   ]
  },
  {
   "cell_type": "code",
   "execution_count": 5,
   "id": "33d8be61-7115-459a-8a27-848f9454a315",
   "metadata": {
    "execution": {
     "iopub.execute_input": "2023-11-19T07:43:45.727510Z",
     "iopub.status.busy": "2023-11-19T07:43:45.727143Z",
     "iopub.status.idle": "2023-11-19T07:43:45.734379Z",
     "shell.execute_reply": "2023-11-19T07:43:45.733667Z",
     "shell.execute_reply.started": "2023-11-19T07:43:45.727489Z"
    }
   },
   "outputs": [
    {
     "data": {
      "text/plain": [
       "({'bee': 0, 'wasp': 1}, {'bee': 0, 'wasp': 1})"
      ]
     },
     "execution_count": 5,
     "metadata": {},
     "output_type": "execute_result"
    }
   ],
   "source": [
    "train_ds.class_indices, val_ds.class_indices"
   ]
  },
  {
   "cell_type": "code",
   "execution_count": 6,
   "id": "9ba72c1c-29a8-44f9-926d-8046aecd936b",
   "metadata": {
    "execution": {
     "iopub.execute_input": "2023-11-19T07:43:45.735758Z",
     "iopub.status.busy": "2023-11-19T07:43:45.735395Z",
     "iopub.status.idle": "2023-11-19T07:43:46.769330Z",
     "shell.execute_reply": "2023-11-19T07:43:46.768532Z",
     "shell.execute_reply.started": "2023-11-19T07:43:45.735735Z"
    }
   },
   "outputs": [
    {
     "name": "stderr",
     "output_type": "stream",
     "text": [
      "2023-11-19 07:43:45.801053: I tensorflow/stream_executor/cuda/cuda_gpu_executor.cc:975] successful NUMA node read from SysFS had negative value (-1), but there must be at least one NUMA node, so returning NUMA node zero\n",
      "2023-11-19 07:43:45.808381: I tensorflow/stream_executor/cuda/cuda_gpu_executor.cc:975] successful NUMA node read from SysFS had negative value (-1), but there must be at least one NUMA node, so returning NUMA node zero\n",
      "2023-11-19 07:43:45.809032: I tensorflow/stream_executor/cuda/cuda_gpu_executor.cc:975] successful NUMA node read from SysFS had negative value (-1), but there must be at least one NUMA node, so returning NUMA node zero\n",
      "2023-11-19 07:43:45.809977: I tensorflow/core/platform/cpu_feature_guard.cc:193] This TensorFlow binary is optimized with oneAPI Deep Neural Network Library (oneDNN) to use the following CPU instructions in performance-critical operations:  AVX2 AVX512F AVX512_VNNI FMA\n",
      "To enable them in other operations, rebuild TensorFlow with the appropriate compiler flags.\n",
      "2023-11-19 07:43:45.810366: I tensorflow/stream_executor/cuda/cuda_gpu_executor.cc:975] successful NUMA node read from SysFS had negative value (-1), but there must be at least one NUMA node, so returning NUMA node zero\n",
      "2023-11-19 07:43:45.811000: I tensorflow/stream_executor/cuda/cuda_gpu_executor.cc:975] successful NUMA node read from SysFS had negative value (-1), but there must be at least one NUMA node, so returning NUMA node zero\n",
      "2023-11-19 07:43:45.811534: I tensorflow/stream_executor/cuda/cuda_gpu_executor.cc:975] successful NUMA node read from SysFS had negative value (-1), but there must be at least one NUMA node, so returning NUMA node zero\n",
      "2023-11-19 07:43:46.470888: I tensorflow/stream_executor/cuda/cuda_gpu_executor.cc:975] successful NUMA node read from SysFS had negative value (-1), but there must be at least one NUMA node, so returning NUMA node zero\n",
      "2023-11-19 07:43:46.471507: I tensorflow/stream_executor/cuda/cuda_gpu_executor.cc:975] successful NUMA node read from SysFS had negative value (-1), but there must be at least one NUMA node, so returning NUMA node zero\n",
      "2023-11-19 07:43:46.472041: I tensorflow/stream_executor/cuda/cuda_gpu_executor.cc:975] successful NUMA node read from SysFS had negative value (-1), but there must be at least one NUMA node, so returning NUMA node zero\n",
      "2023-11-19 07:43:46.472561: I tensorflow/core/common_runtime/gpu/gpu_device.cc:1532] Created device /job:localhost/replica:0/task:0/device:GPU:0 with 13795 MB memory:  -> device: 0, name: Tesla T4, pci bus id: 0000:00:1e.0, compute capability: 7.5\n"
     ]
    }
   ],
   "source": [
    "model = make_model((150, 150, 3), 32, (3, 3), (2, 2), learning_rate=0.002, momentum=0.8)"
   ]
  },
  {
   "cell_type": "code",
   "execution_count": 7,
   "id": "ac191d9d-804f-4c6c-9d46-e54f538f8512",
   "metadata": {
    "execution": {
     "iopub.execute_input": "2023-11-19T07:43:46.773711Z",
     "iopub.status.busy": "2023-11-19T07:43:46.772866Z",
     "iopub.status.idle": "2023-11-19T07:45:22.605664Z",
     "shell.execute_reply": "2023-11-19T07:45:22.604976Z",
     "shell.execute_reply.started": "2023-11-19T07:43:46.773671Z"
    },
    "scrolled": true
   },
   "outputs": [
    {
     "name": "stdout",
     "output_type": "stream",
     "text": [
      "Epoch 1/10\n"
     ]
    },
    {
     "name": "stderr",
     "output_type": "stream",
     "text": [
      "2023-11-19 07:43:48.016025: I tensorflow/stream_executor/cuda/cuda_dnn.cc:384] Loaded cuDNN version 8100\n",
      "2023-11-19 07:43:48.715443: I tensorflow/core/platform/default/subprocess.cc:304] Start cannot spawn child process: No such file or directory\n",
      "2023-11-19 07:43:48.715919: I tensorflow/core/platform/default/subprocess.cc:304] Start cannot spawn child process: No such file or directory\n",
      "2023-11-19 07:43:48.715966: W tensorflow/stream_executor/gpu/asm_compiler.cc:80] Couldn't get ptxas version string: INTERNAL: Couldn't invoke ptxas --version\n",
      "2023-11-19 07:43:48.716519: I tensorflow/core/platform/default/subprocess.cc:304] Start cannot spawn child process: No such file or directory\n",
      "2023-11-19 07:43:48.716619: W tensorflow/stream_executor/gpu/redzone_allocator.cc:314] INTERNAL: Failed to launch ptxas\n",
      "Relying on driver to perform ptx compilation. \n",
      "Modify $PATH to customize ptxas location.\n",
      "This message will be only logged once.\n"
     ]
    },
    {
     "name": "stdout",
     "output_type": "stream",
     "text": [
      "115/115 [==============================] - 12s 82ms/step - loss: 0.6425 - accuracy: 0.6307 - val_loss: 0.5695 - val_accuracy: 0.7146\n",
      "Epoch 2/10\n",
      "115/115 [==============================] - 9s 81ms/step - loss: 0.5271 - accuracy: 0.7457 - val_loss: 0.5179 - val_accuracy: 0.7386\n",
      "Epoch 3/10\n",
      "115/115 [==============================] - 9s 80ms/step - loss: 0.4669 - accuracy: 0.7887 - val_loss: 0.5344 - val_accuracy: 0.7462\n",
      "Epoch 4/10\n",
      "115/115 [==============================] - 9s 82ms/step - loss: 0.4282 - accuracy: 0.8055 - val_loss: 0.5043 - val_accuracy: 0.7527\n",
      "Epoch 5/10\n",
      "115/115 [==============================] - 9s 80ms/step - loss: 0.3951 - accuracy: 0.8273 - val_loss: 0.4965 - val_accuracy: 0.7712\n",
      "Epoch 6/10\n",
      "115/115 [==============================] - 9s 81ms/step - loss: 0.3476 - accuracy: 0.8618 - val_loss: 0.5240 - val_accuracy: 0.7462\n",
      "Epoch 7/10\n",
      "115/115 [==============================] - 9s 82ms/step - loss: 0.3098 - accuracy: 0.8749 - val_loss: 0.5273 - val_accuracy: 0.7527\n",
      "Epoch 8/10\n",
      "115/115 [==============================] - 9s 81ms/step - loss: 0.2780 - accuracy: 0.8967 - val_loss: 0.5403 - val_accuracy: 0.7712\n",
      "Epoch 9/10\n",
      "115/115 [==============================] - 9s 80ms/step - loss: 0.2451 - accuracy: 0.9108 - val_loss: 0.5606 - val_accuracy: 0.7680\n",
      "Epoch 10/10\n",
      "115/115 [==============================] - 9s 79ms/step - loss: 0.1918 - accuracy: 0.9358 - val_loss: 0.5723 - val_accuracy: 0.7767\n"
     ]
    }
   ],
   "source": [
    "history = model.fit(train_ds, epochs=10, validation_data=val_ds)"
   ]
  },
  {
   "cell_type": "markdown",
   "id": "f81a09f3-32ce-4a64-9779-3d6157028bc4",
   "metadata": {},
   "source": [
    "# Question 1"
   ]
  },
  {
   "cell_type": "code",
   "execution_count": 8,
   "id": "2ae5c56b-4ab5-4ecd-803b-4f74c49744fb",
   "metadata": {
    "execution": {
     "iopub.execute_input": "2023-11-19T07:45:22.607380Z",
     "iopub.status.busy": "2023-11-19T07:45:22.606991Z",
     "iopub.status.idle": "2023-11-19T07:45:22.611285Z",
     "shell.execute_reply": "2023-11-19T07:45:22.610462Z",
     "shell.execute_reply.started": "2023-11-19T07:45:22.607354Z"
    }
   },
   "outputs": [],
   "source": [
    "# use binary cross entropy loss function for binary classification"
   ]
  },
  {
   "cell_type": "markdown",
   "id": "71b4c502-48b9-47c7-bf0e-dbad3d93f1eb",
   "metadata": {},
   "source": [
    "# Question 2"
   ]
  },
  {
   "cell_type": "code",
   "execution_count": 9,
   "id": "1a83511f-6c27-47ca-bad0-90203de1eff0",
   "metadata": {
    "execution": {
     "iopub.execute_input": "2023-11-19T07:45:22.612804Z",
     "iopub.status.busy": "2023-11-19T07:45:22.612366Z",
     "iopub.status.idle": "2023-11-19T07:45:22.628813Z",
     "shell.execute_reply": "2023-11-19T07:45:22.628188Z",
     "shell.execute_reply.started": "2023-11-19T07:45:22.612770Z"
    }
   },
   "outputs": [
    {
     "name": "stdout",
     "output_type": "stream",
     "text": [
      "Model: \"model\"\n",
      "_________________________________________________________________\n",
      " Layer (type)                Output Shape              Param #   \n",
      "=================================================================\n",
      " input_1 (InputLayer)        [(None, 150, 150, 3)]     0         \n",
      "                                                                 \n",
      " conv2d (Conv2D)             (None, 148, 148, 32)      896       \n",
      "                                                                 \n",
      " max_pooling2d (MaxPooling2D  (None, 74, 74, 32)       0         \n",
      " )                                                               \n",
      "                                                                 \n",
      " flatten (Flatten)           (None, 175232)            0         \n",
      "                                                                 \n",
      " dense (Dense)               (None, 64)                11214912  \n",
      "                                                                 \n",
      " dense_1 (Dense)             (None, 1)                 65        \n",
      "                                                                 \n",
      "=================================================================\n",
      "Total params: 11,215,873\n",
      "Trainable params: 11,215,873\n",
      "Non-trainable params: 0\n",
      "_________________________________________________________________\n"
     ]
    }
   ],
   "source": [
    "model.summary()"
   ]
  },
  {
   "cell_type": "markdown",
   "id": "8fe6601a-c0eb-4f06-92aa-f409b81d9fbc",
   "metadata": {},
   "source": [
    "# Question 3"
   ]
  },
  {
   "cell_type": "code",
   "execution_count": 10,
   "id": "08480421-e2cb-4090-8d81-8324377c2e65",
   "metadata": {
    "execution": {
     "iopub.execute_input": "2023-11-19T07:45:22.630329Z",
     "iopub.status.busy": "2023-11-19T07:45:22.629671Z",
     "iopub.status.idle": "2023-11-19T07:45:22.783569Z",
     "shell.execute_reply": "2023-11-19T07:45:22.782893Z",
     "shell.execute_reply.started": "2023-11-19T07:45:22.630306Z"
    }
   },
   "outputs": [
    {
     "name": "stdout",
     "output_type": "stream",
     "text": [
      "Found 3677 images belonging to 2 classes.\n",
      "Found 918 images belonging to 2 classes.\n"
     ]
    }
   ],
   "source": [
    "train_data_gen2 = ImageDataGenerator(rescale=1./255)\n",
    "train_gen2 = train_data_gen2.flow_from_directory(\n",
    "    train_data_dir,\n",
    "    target_size=(150, 150),\n",
    "    batch_size=20,\n",
    "    shuffle=True,\n",
    "    class_mode='binary',\n",
    ")\n",
    "\n",
    "test_data_gen2 = ImageDataGenerator(rescale=1./255)\n",
    "test_gen2 = test_data_gen2.flow_from_directory(\n",
    "    test_data_dir,\n",
    "    target_size=(150, 150),\n",
    "    batch_size=20,\n",
    "    shuffle=True,\n",
    "    class_mode='binary'\n",
    ")\n",
    "\n",
    "model2 = make_model((150, 150, 3), 32, (3, 3), (2, 2), learning_rate=0.002, momentum=0.8)"
   ]
  },
  {
   "cell_type": "code",
   "execution_count": 11,
   "id": "93d4c198-e835-4d44-9604-a08eea9ec020",
   "metadata": {
    "execution": {
     "iopub.execute_input": "2023-11-19T07:45:22.784852Z",
     "iopub.status.busy": "2023-11-19T07:45:22.784523Z",
     "iopub.status.idle": "2023-11-19T07:46:53.290008Z",
     "shell.execute_reply": "2023-11-19T07:46:53.289197Z",
     "shell.execute_reply.started": "2023-11-19T07:45:22.784832Z"
    }
   },
   "outputs": [
    {
     "name": "stdout",
     "output_type": "stream",
     "text": [
      "Epoch 1/10\n",
      "184/184 [==============================] - 10s 50ms/step - loss: 0.6954 - accuracy: 0.5287 - val_loss: 0.6777 - val_accuracy: 0.5850\n",
      "Epoch 2/10\n",
      "184/184 [==============================] - 9s 48ms/step - loss: 0.6772 - accuracy: 0.5627 - val_loss: 0.6439 - val_accuracy: 0.6187\n",
      "Epoch 3/10\n",
      "184/184 [==============================] - 9s 48ms/step - loss: 0.6525 - accuracy: 0.6097 - val_loss: 0.6217 - val_accuracy: 0.6242\n",
      "Epoch 4/10\n",
      "184/184 [==============================] - 9s 48ms/step - loss: 0.6136 - accuracy: 0.6614 - val_loss: 0.5779 - val_accuracy: 0.7059\n",
      "Epoch 5/10\n",
      "184/184 [==============================] - 9s 48ms/step - loss: 0.5666 - accuracy: 0.7147 - val_loss: 0.5567 - val_accuracy: 0.7048\n",
      "Epoch 6/10\n",
      "184/184 [==============================] - 9s 49ms/step - loss: 0.5403 - accuracy: 0.7359 - val_loss: 0.5362 - val_accuracy: 0.7309\n",
      "Epoch 7/10\n",
      "184/184 [==============================] - 8s 45ms/step - loss: 0.5126 - accuracy: 0.7593 - val_loss: 0.5369 - val_accuracy: 0.7298\n",
      "Epoch 8/10\n",
      "184/184 [==============================] - 9s 47ms/step - loss: 0.4897 - accuracy: 0.7764 - val_loss: 0.5213 - val_accuracy: 0.7516\n",
      "Epoch 9/10\n",
      "184/184 [==============================] - 9s 48ms/step - loss: 0.4691 - accuracy: 0.7947 - val_loss: 0.5607 - val_accuracy: 0.6972\n",
      "Epoch 10/10\n",
      "184/184 [==============================] - 9s 48ms/step - loss: 0.4564 - accuracy: 0.7974 - val_loss: 0.5356 - val_accuracy: 0.7342\n"
     ]
    }
   ],
   "source": [
    "hist2 = model2.fit(\n",
    "    train_gen2,\n",
    "    epochs=10,\n",
    "    validation_data=test_gen2\n",
    ")"
   ]
  },
  {
   "cell_type": "code",
   "execution_count": 12,
   "id": "3ce90fb4-e9ec-41cb-bfa3-fb00b7189118",
   "metadata": {
    "execution": {
     "iopub.execute_input": "2023-11-19T07:46:53.291745Z",
     "iopub.status.busy": "2023-11-19T07:46:53.291285Z",
     "iopub.status.idle": "2023-11-19T07:46:53.297948Z",
     "shell.execute_reply": "2023-11-19T07:46:53.297125Z",
     "shell.execute_reply.started": "2023-11-19T07:46:53.291707Z"
    },
    "scrolled": true
   },
   "outputs": [
    {
     "data": {
      "text/plain": [
       "{'loss': [0.6954396963119507,\n",
       "  0.6772051453590393,\n",
       "  0.6524572968482971,\n",
       "  0.6135765910148621,\n",
       "  0.5666470527648926,\n",
       "  0.5403436422348022,\n",
       "  0.5126460194587708,\n",
       "  0.4897094964981079,\n",
       "  0.4690507650375366,\n",
       "  0.4563712775707245],\n",
       " 'accuracy': [0.5286918878555298,\n",
       "  0.5626869797706604,\n",
       "  0.6097362041473389,\n",
       "  0.6614087820053101,\n",
       "  0.7147130966186523,\n",
       "  0.7359260320663452,\n",
       "  0.7593146562576294,\n",
       "  0.7764481902122498,\n",
       "  0.7946695685386658,\n",
       "  0.7973891496658325],\n",
       " 'val_loss': [0.6776949763298035,\n",
       "  0.6439133882522583,\n",
       "  0.6217292547225952,\n",
       "  0.5778939723968506,\n",
       "  0.5567148923873901,\n",
       "  0.5362234711647034,\n",
       "  0.5368881225585938,\n",
       "  0.5212743282318115,\n",
       "  0.5606775283813477,\n",
       "  0.5355856418609619],\n",
       " 'val_accuracy': [0.584967315196991,\n",
       "  0.6187363862991333,\n",
       "  0.6241829991340637,\n",
       "  0.7058823704719543,\n",
       "  0.7047930359840393,\n",
       "  0.7309368252754211,\n",
       "  0.7298474907875061,\n",
       "  0.7516340017318726,\n",
       "  0.6971677541732788,\n",
       "  0.7342047691345215]}"
      ]
     },
     "execution_count": 12,
     "metadata": {},
     "output_type": "execute_result"
    }
   ],
   "source": [
    "hist2.history"
   ]
  },
  {
   "cell_type": "code",
   "execution_count": 13,
   "id": "7731b741-3c6d-49b5-9a1b-3c10e4d51781",
   "metadata": {
    "execution": {
     "iopub.execute_input": "2023-11-19T07:46:53.299600Z",
     "iopub.status.busy": "2023-11-19T07:46:53.299187Z",
     "iopub.status.idle": "2023-11-19T07:46:53.305649Z",
     "shell.execute_reply": "2023-11-19T07:46:53.304876Z",
     "shell.execute_reply.started": "2023-11-19T07:46:53.299565Z"
    }
   },
   "outputs": [
    {
     "data": {
      "text/plain": [
       "0.7253195643424988"
      ]
     },
     "execution_count": 13,
     "metadata": {},
     "output_type": "execute_result"
    }
   ],
   "source": [
    "np.median(hist2.history['accuracy'])"
   ]
  },
  {
   "cell_type": "markdown",
   "id": "2afe3c3e-98ae-41a2-ae83-82236ffa7dd6",
   "metadata": {},
   "source": [
    "# Question 4"
   ]
  },
  {
   "cell_type": "code",
   "execution_count": 14,
   "id": "f92f903f-bdde-4a6a-86a2-eb679b10c390",
   "metadata": {
    "execution": {
     "iopub.execute_input": "2023-11-19T07:46:53.306881Z",
     "iopub.status.busy": "2023-11-19T07:46:53.306591Z",
     "iopub.status.idle": "2023-11-19T07:46:53.312985Z",
     "shell.execute_reply": "2023-11-19T07:46:53.312149Z",
     "shell.execute_reply.started": "2023-11-19T07:46:53.306861Z"
    }
   },
   "outputs": [
    {
     "data": {
      "text/plain": [
       "(0.5673446983098984, 0.08341744413947431)"
      ]
     },
     "execution_count": 14,
     "metadata": {},
     "output_type": "execute_result"
    }
   ],
   "source": [
    "np.mean(hist2.history['loss']), np.std(hist2.history['loss'])"
   ]
  },
  {
   "cell_type": "code",
   "execution_count": 15,
   "id": "43dfd453-6637-464b-8d71-4e47a649ab22",
   "metadata": {
    "execution": {
     "iopub.execute_input": "2023-11-19T07:46:53.314592Z",
     "iopub.status.busy": "2023-11-19T07:46:53.314174Z",
     "iopub.status.idle": "2023-11-19T07:46:53.465507Z",
     "shell.execute_reply": "2023-11-19T07:46:53.464688Z",
     "shell.execute_reply.started": "2023-11-19T07:46:53.314558Z"
    }
   },
   "outputs": [
    {
     "data": {
      "text/plain": [
       "<matplotlib.legend.Legend at 0x7f0aa40dff40>"
      ]
     },
     "execution_count": 15,
     "metadata": {},
     "output_type": "execute_result"
    },
    {
     "data": {
      "image/png": "[encoded data removed]",
      "text/plain": [
       "<Figure size 640x480 with 1 Axes>"
      ]
     },
     "metadata": {},
     "output_type": "display_data"
    }
   ],
   "source": [
    "plt.plot(hist2.history['accuracy'], label='train')\n",
    "plt.plot(hist2.history['val_accuracy'], label='val')\n",
    "plt.xticks(np.arange(10))\n",
    "plt.legend()"
   ]
  },
  {
   "cell_type": "code",
   "execution_count": 16,
   "id": "25bf41b0-e222-4363-985b-9c5e5d393f6e",
   "metadata": {
    "execution": {
     "iopub.execute_input": "2023-11-19T07:46:53.467514Z",
     "iopub.status.busy": "2023-11-19T07:46:53.466836Z",
     "iopub.status.idle": "2023-11-19T07:50:59.065386Z",
     "shell.execute_reply": "2023-11-19T07:50:59.064612Z",
     "shell.execute_reply.started": "2023-11-19T07:46:53.467478Z"
    }
   },
   "outputs": [
    {
     "name": "stdout",
     "output_type": "stream",
     "text": [
      "Found 3677 images belonging to 2 classes.\n",
      "Found 918 images belonging to 2 classes.\n",
      "Epoch 1/10\n",
      "184/184 [==============================] - 25s 133ms/step - loss: 0.5119 - accuracy: 0.7604 - val_loss: 0.5013 - val_accuracy: 0.7789\n",
      "Epoch 2/10\n",
      "184/184 [==============================] - 25s 133ms/step - loss: 0.5011 - accuracy: 0.7699 - val_loss: 0.4874 - val_accuracy: 0.7702\n",
      "Epoch 3/10\n",
      "184/184 [==============================] - 24s 133ms/step - loss: 0.4902 - accuracy: 0.7786 - val_loss: 0.5084 - val_accuracy: 0.7462\n",
      "Epoch 4/10\n",
      "184/184 [==============================] - 25s 133ms/step - loss: 0.4762 - accuracy: 0.7803 - val_loss: 0.5389 - val_accuracy: 0.7473\n",
      "Epoch 5/10\n",
      "184/184 [==============================] - 24s 133ms/step - loss: 0.4822 - accuracy: 0.7784 - val_loss: 0.4654 - val_accuracy: 0.7843\n",
      "Epoch 6/10\n",
      "184/184 [==============================] - 24s 131ms/step - loss: 0.4699 - accuracy: 0.7865 - val_loss: 0.4674 - val_accuracy: 0.7908\n",
      "Epoch 7/10\n",
      "184/184 [==============================] - 25s 133ms/step - loss: 0.4670 - accuracy: 0.7857 - val_loss: 0.4740 - val_accuracy: 0.7810\n",
      "Epoch 8/10\n",
      "184/184 [==============================] - 25s 134ms/step - loss: 0.4702 - accuracy: 0.7819 - val_loss: 0.4484 - val_accuracy: 0.7898\n",
      "Epoch 9/10\n",
      "184/184 [==============================] - 25s 133ms/step - loss: 0.4648 - accuracy: 0.7909 - val_loss: 0.4615 - val_accuracy: 0.7789\n",
      "Epoch 10/10\n",
      "184/184 [==============================] - 25s 135ms/step - loss: 0.4661 - accuracy: 0.7862 - val_loss: 0.4386 - val_accuracy: 0.8039\n"
     ]
    }
   ],
   "source": [
    "train_data_gen3 = ImageDataGenerator(\n",
    "    rescale=1./255,\n",
    "    rotation_range=50,\n",
    "    width_shift_range=0.1,\n",
    "    height_shift_range=0.1,\n",
    "    zoom_range=0.1,\n",
    "    horizontal_flip=True,\n",
    "    fill_mode='nearest')\n",
    "train_gen3 = train_data_gen3.flow_from_directory(\n",
    "    train_data_dir,\n",
    "    target_size=(150, 150),\n",
    "    batch_size=20,\n",
    "    shuffle=True,\n",
    "    class_mode='binary',\n",
    ")\n",
    "\n",
    "test_data_gen3 = ImageDataGenerator(rescale=1./255)\n",
    "test_gen3 = test_data_gen3.flow_from_directory(\n",
    "    test_data_dir,\n",
    "    target_size=(150, 150),\n",
    "    batch_size=20,\n",
    "    shuffle=True,\n",
    "    class_mode='binary'\n",
    ")\n",
    "\n",
    "hist3 = model2.fit(\n",
    "    train_gen3,\n",
    "    epochs=10,\n",
    "    validation_data=test_gen3\n",
    ")"
   ]
  },
  {
   "cell_type": "code",
   "execution_count": 17,
   "id": "1ed0d611-67e9-4b5d-a0b9-d92ce3d2bf1c",
   "metadata": {
    "execution": {
     "iopub.execute_input": "2023-11-19T07:50:59.066858Z",
     "iopub.status.busy": "2023-11-19T07:50:59.066515Z",
     "iopub.status.idle": "2023-11-19T07:50:59.072836Z",
     "shell.execute_reply": "2023-11-19T07:50:59.072006Z",
     "shell.execute_reply.started": "2023-11-19T07:50:59.066835Z"
    }
   },
   "outputs": [
    {
     "data": {
      "text/plain": [
       "{'loss': [0.5118579864501953,\n",
       "  0.5010568499565125,\n",
       "  0.4902306795120239,\n",
       "  0.47622641921043396,\n",
       "  0.48222821950912476,\n",
       "  0.46985411643981934,\n",
       "  0.46699419617652893,\n",
       "  0.47024667263031006,\n",
       "  0.4648488759994507,\n",
       "  0.46608591079711914],\n",
       " 'accuracy': [0.760402500629425,\n",
       "  0.7699211239814758,\n",
       "  0.7786238789558411,\n",
       "  0.7802556157112122,\n",
       "  0.778351902961731,\n",
       "  0.7865107655525208,\n",
       "  0.7856948375701904,\n",
       "  0.781887412071228,\n",
       "  0.7908621430397034,\n",
       "  0.7862387895584106],\n",
       " 'val_loss': [0.5013285875320435,\n",
       "  0.4874446392059326,\n",
       "  0.5083593130111694,\n",
       "  0.5389356017112732,\n",
       "  0.4653896391391754,\n",
       "  0.4673716425895691,\n",
       "  0.4739697575569153,\n",
       "  0.4484111964702606,\n",
       "  0.46149125695228577,\n",
       "  0.43861812353134155],\n",
       " 'val_accuracy': [0.7788671255111694,\n",
       "  0.7701525092124939,\n",
       "  0.7461873888969421,\n",
       "  0.7472766637802124,\n",
       "  0.7843137383460999,\n",
       "  0.7908496856689453,\n",
       "  0.7810457348823547,\n",
       "  0.7897603511810303,\n",
       "  0.7788671255111694,\n",
       "  0.8039215803146362]}"
      ]
     },
     "execution_count": 17,
     "metadata": {},
     "output_type": "execute_result"
    }
   ],
   "source": [
    "hist3.history"
   ]
  },
  {
   "cell_type": "markdown",
   "id": "bbdb11f2-dca9-465d-b16e-a6ea1ac483d8",
   "metadata": {},
   "source": [
    "# Question 5"
   ]
  },
  {
   "cell_type": "code",
   "execution_count": 18,
   "id": "b3e6dee1-a1e9-4a6a-9e65-cf42f07c27db",
   "metadata": {
    "execution": {
     "iopub.execute_input": "2023-11-19T07:50:59.074670Z",
     "iopub.status.busy": "2023-11-19T07:50:59.074208Z",
     "iopub.status.idle": "2023-11-19T07:50:59.081150Z",
     "shell.execute_reply": "2023-11-19T07:50:59.080392Z",
     "shell.execute_reply.started": "2023-11-19T07:50:59.074630Z"
    },
    "tags": []
   },
   "outputs": [
    {
     "data": {
      "text/plain": [
       "0.47913197576999667"
      ]
     },
     "execution_count": 18,
     "metadata": {},
     "output_type": "execute_result"
    }
   ],
   "source": [
    "np.mean(hist3.history['val_loss'])"
   ]
  },
  {
   "cell_type": "markdown",
   "id": "57bb285c-9fac-48d5-92ef-c52386e7be5c",
   "metadata": {},
   "source": [
    "# Question 6"
   ]
  },
  {
   "cell_type": "code",
   "execution_count": 19,
   "id": "0b704b11-1dfd-46f4-a4e5-bdfcfd4ffb46",
   "metadata": {
    "execution": {
     "iopub.execute_input": "2023-11-19T07:50:59.082874Z",
     "iopub.status.busy": "2023-11-19T07:50:59.082106Z",
     "iopub.status.idle": "2023-11-19T07:50:59.089366Z",
     "shell.execute_reply": "2023-11-19T07:50:59.088517Z",
     "shell.execute_reply.started": "2023-11-19T07:50:59.082833Z"
    },
    "tags": []
   },
   "outputs": [
    {
     "data": {
      "text/plain": [
       "0.7888888955116272"
      ]
     },
     "execution_count": 19,
     "metadata": {},
     "output_type": "execute_result"
    }
   ],
   "source": [
    "np.mean(hist3.history['val_accuracy'][5:])"
   ]
  },
  {
   "cell_type": "code",
   "execution_count": null,
   "id": "bdd9f751-954f-4520-a1e1-f3cf0224d671",
   "metadata": {},
   "outputs": [],
   "source": []
  }
 ],
 "metadata": {
  "kernelspec": {
   "display_name": "saturn (Python 3)",
   "language": "python",
   "name": "python3"
  },
  "language_info": {
   "codemirror_mode": {
    "name": "ipython",
    "version": 3
   },
   "file_extension": ".py",
   "mimetype": "text/x-python",
   "name": "python",
   "nbconvert_exporter": "python",
   "pygments_lexer": "ipython3",
   "version": "3.9.13"
  }
 },
 "nbformat": 4,
 "nbformat_minor": 5
}
