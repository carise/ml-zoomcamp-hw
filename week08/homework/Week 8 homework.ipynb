{
 "cells": [
  {
   "cell_type": "code",
   "execution_count": 1,
   "id": "665f2c03-cd3f-4655-b24f-95377952048a",
   "metadata": {},
   "outputs": [
    {
     "name": "stderr",
     "output_type": "stream",
     "text": [
      "2023-11-14 16:49:36.960993: I tensorflow/core/platform/cpu_feature_guard.cc:182] This TensorFlow binary is optimized to use available CPU instructions in performance-critical operations.\n",
      "To enable the following instructions: AVX2 FMA, in other operations, rebuild TensorFlow with the appropriate compiler flags.\n"
     ]
    }
   ],
   "source": [
    "import pandas as pd\n",
    "import numpy as np\n",
    "import matplotlib.pyplot as plt\n",
    "import seaborn as sns\n",
    "\n",
    "import tensorflow as tf\n",
    "from tensorflow import keras\n",
    "\n",
    "%matplotlib inline"
   ]
  },
  {
   "cell_type": "markdown",
   "id": "9aff4471-ab5f-4b5a-a1a6-11164788ebf4",
   "metadata": {},
   "source": [
    "# Data preparation"
   ]
  },
  {
   "cell_type": "code",
   "execution_count": 2,
   "id": "27cbe691-d3b3-429a-a508-c1d42ea9fbd9",
   "metadata": {},
   "outputs": [],
   "source": [
    "from tensorflow.keras.applications.xception import Xception, preprocess_input\n",
    "from tensorflow.keras.preprocessing.image import ImageDataGenerator"
   ]
  },
  {
   "cell_type": "code",
   "execution_count": 27,
   "id": "650eef88-fd6a-4772-9fd4-5d3f00fcafb3",
   "metadata": {},
   "outputs": [],
   "source": [
    "def make_model(input_shape, conv_filters, conv_kernel_size, pool_size, learning_rate=0.002, momentum=0.8):\n",
    "    inputs = keras.Input(shape=input_shape)\n",
    "\n",
    "    cnn_layer = keras.layers.Conv2D(\n",
    "        conv_filters,\n",
    "        conv_kernel_size,\n",
    "        activation='relu',\n",
    "    )(inputs)\n",
    "    \n",
    "    pooling_layer = keras.layers.MaxPooling2D(pool_size=pool_size)(cnn_layer)\n",
    "    vectors = keras.layers.Flatten()(pooling_layer)\n",
    "    inner = keras.layers.Dense(64, activation='relu')(vectors)\n",
    "    outputs = keras.layers.Dense(1, activation='sigmoid')(inner)\n",
    "    \n",
    "    model = keras.Model(inputs, outputs)\n",
    "    \n",
    "    optimizer = keras.optimizers.SGD(learning_rate=learning_rate, momentum=momentum)\n",
    "    loss = keras.losses.BinaryCrossentropy()\n",
    "    \n",
    "    model.compile(optimizer=optimizer, loss=loss, metrics=['accuracy'])\n",
    "\n",
    "    return model\n"
   ]
  },
  {
   "cell_type": "code",
   "execution_count": 54,
   "id": "d1c0d364-21e1-4566-8842-c60bb4a0b9e7",
   "metadata": {},
   "outputs": [
    {
     "name": "stdout",
     "output_type": "stream",
     "text": [
      "Found 2758 images belonging to 2 classes.\n",
      "Found 919 images belonging to 2 classes.\n"
     ]
    }
   ],
   "source": [
    "# total images in train/test is 4595\n",
    "# validation_split is 0.25\n",
    "train_data_dir = './data/train'\n",
    "test_data_dir = './data/test'\n",
    "train_gen = ImageDataGenerator(preprocessing_function=preprocess_input, validation_split=0.25)\n",
    "\n",
    "train_ds = train_gen.flow_from_directory(\n",
    "    train_data_dir,\n",
    "    target_size=(150, 150),\n",
    "    batch_size=32,\n",
    "    subset='training',\n",
    "    class_mode='binary',\n",
    ")\n",
    "\n",
    "val_ds = train_gen.flow_from_directory(\n",
    "    train_data_dir,\n",
    "    target_size=(150, 150),\n",
    "    batch_size=32,\n",
    "    subset='validation',\n",
    "    class_mode='binary'\n",
    ")"
   ]
  },
  {
   "cell_type": "code",
   "execution_count": 4,
   "id": "33d8be61-7115-459a-8a27-848f9454a315",
   "metadata": {},
   "outputs": [
    {
     "data": {
      "text/plain": [
       "({'bee': 0, 'wasp': 1}, {'bee': 0, 'wasp': 1})"
      ]
     },
     "execution_count": 4,
     "metadata": {},
     "output_type": "execute_result"
    }
   ],
   "source": [
    "train_ds.class_indices, val_ds.class_indices"
   ]
  },
  {
   "cell_type": "code",
   "execution_count": 28,
   "id": "9ba72c1c-29a8-44f9-926d-8046aecd936b",
   "metadata": {},
   "outputs": [],
   "source": [
    "model = make_model((150, 150, 3), 32, (3, 3), (2, 2), learning_rate=0.002, momentum=0.8)"
   ]
  },
  {
   "cell_type": "code",
   "execution_count": 13,
   "id": "ac191d9d-804f-4c6c-9d46-e54f538f8512",
   "metadata": {
    "scrolled": true
   },
   "outputs": [
    {
     "name": "stdout",
     "output_type": "stream",
     "text": [
      "Epoch 1/10\n",
      "87/87 [==============================] - 23s 255ms/step - loss: 0.6520 - accuracy: 0.6015 - val_loss: 0.6479 - val_accuracy: 0.6181\n",
      "Epoch 2/10\n",
      "87/87 [==============================] - 21s 243ms/step - loss: 0.5625 - accuracy: 0.7099 - val_loss: 0.5346 - val_accuracy: 0.7454\n",
      "Epoch 3/10\n",
      "87/87 [==============================] - 21s 246ms/step - loss: 0.5046 - accuracy: 0.7520 - val_loss: 0.5465 - val_accuracy: 0.7323\n",
      "Epoch 4/10\n",
      "87/87 [==============================] - 21s 243ms/step - loss: 0.4710 - accuracy: 0.7752 - val_loss: 0.5141 - val_accuracy: 0.7410\n",
      "Epoch 5/10\n",
      "87/87 [==============================] - 21s 245ms/step - loss: 0.4262 - accuracy: 0.8107 - val_loss: 0.5164 - val_accuracy: 0.7476\n",
      "Epoch 6/10\n",
      "87/87 [==============================] - 22s 249ms/step - loss: 0.4088 - accuracy: 0.8194 - val_loss: 0.5238 - val_accuracy: 0.7465\n",
      "Epoch 7/10\n",
      "87/87 [==============================] - 21s 246ms/step - loss: 0.3610 - accuracy: 0.8513 - val_loss: 0.5651 - val_accuracy: 0.7160\n",
      "Epoch 8/10\n",
      "87/87 [==============================] - 21s 246ms/step - loss: 0.3270 - accuracy: 0.8666 - val_loss: 0.5535 - val_accuracy: 0.7378\n",
      "Epoch 9/10\n",
      "87/87 [==============================] - 21s 242ms/step - loss: 0.2830 - accuracy: 0.8880 - val_loss: 0.5519 - val_accuracy: 0.7541\n",
      "Epoch 10/10\n",
      "87/87 [==============================] - 21s 244ms/step - loss: 0.2695 - accuracy: 0.8912 - val_loss: 0.5974 - val_accuracy: 0.7073\n"
     ]
    }
   ],
   "source": [
    "history = model.fit(train_ds, epochs=10, validation_data=val_ds)"
   ]
  },
  {
   "cell_type": "markdown",
   "id": "f81a09f3-32ce-4a64-9779-3d6157028bc4",
   "metadata": {},
   "source": [
    "# Question 1"
   ]
  },
  {
   "cell_type": "code",
   "execution_count": 14,
   "id": "2ae5c56b-4ab5-4ecd-803b-4f74c49744fb",
   "metadata": {},
   "outputs": [],
   "source": [
    "# use binary cross entropy loss function for binary classification"
   ]
  },
  {
   "cell_type": "markdown",
   "id": "71b4c502-48b9-47c7-bf0e-dbad3d93f1eb",
   "metadata": {},
   "source": [
    "# Question 2"
   ]
  },
  {
   "cell_type": "code",
   "execution_count": 15,
   "id": "1a83511f-6c27-47ca-bad0-90203de1eff0",
   "metadata": {},
   "outputs": [
    {
     "name": "stdout",
     "output_type": "stream",
     "text": [
      "Model: \"model_1\"\n",
      "_________________________________________________________________\n",
      " Layer (type)                Output Shape              Param #   \n",
      "=================================================================\n",
      " input_3 (InputLayer)        [(None, 150, 150, 3)]     0         \n",
      "                                                                 \n",
      " conv2d_5 (Conv2D)           (None, 148, 148, 32)      896       \n",
      "                                                                 \n",
      " max_pooling2d_1 (MaxPoolin  (None, 74, 74, 32)        0         \n",
      " g2D)                                                            \n",
      "                                                                 \n",
      " flatten_1 (Flatten)         (None, 175232)            0         \n",
      "                                                                 \n",
      " dense_2 (Dense)             (None, 64)                11214912  \n",
      "                                                                 \n",
      " dense_3 (Dense)             (None, 1)                 65        \n",
      "                                                                 \n",
      "=================================================================\n",
      "Total params: 11215873 (42.79 MB)\n",
      "Trainable params: 11215873 (42.79 MB)\n",
      "Non-trainable params: 0 (0.00 Byte)\n",
      "_________________________________________________________________\n"
     ]
    }
   ],
   "source": [
    "model.summary()"
   ]
  },
  {
   "cell_type": "markdown",
   "id": "8fe6601a-c0eb-4f06-92aa-f409b81d9fbc",
   "metadata": {},
   "source": [
    "# Question 3"
   ]
  },
  {
   "cell_type": "code",
   "execution_count": 47,
   "id": "08480421-e2cb-4090-8d81-8324377c2e65",
   "metadata": {},
   "outputs": [
    {
     "name": "stdout",
     "output_type": "stream",
     "text": [
      "Found 3677 images belonging to 2 classes.\n",
      "Found 918 images belonging to 2 classes.\n"
     ]
    }
   ],
   "source": [
    "train_data_gen2 = ImageDataGenerator(rescale=1./255)\n",
    "train_gen2 = train_data_gen2.flow_from_directory(\n",
    "    train_data_dir,\n",
    "    target_size=(150, 150),\n",
    "    batch_size=20,\n",
    "    shuffle=True,\n",
    "    class_mode='binary',\n",
    ")\n",
    "\n",
    "test_data_gen2 = ImageDataGenerator(rescale=1./255)\n",
    "test_gen2 = test_data_gen2.flow_from_directory(\n",
    "    test_data_dir,\n",
    "    target_size=(150, 150),\n",
    "    batch_size=20,\n",
    "    shuffle=True,\n",
    "    class_mode='binary'\n",
    ")\n",
    "\n",
    "model2 = make_model((150, 150, 3), 32, (3, 3), (2, 2), learning_rate=0.002, momentum=0.8)"
   ]
  },
  {
   "cell_type": "code",
   "execution_count": 48,
   "id": "93d4c198-e835-4d44-9604-a08eea9ec020",
   "metadata": {},
   "outputs": [
    {
     "name": "stdout",
     "output_type": "stream",
     "text": [
      "Epoch 1/10\n",
      "184/184 [==============================] - 32s 170ms/step - loss: 0.6851 - accuracy: 0.5396 - val_loss: 0.6568 - val_accuracy: 0.5861\n",
      "Epoch 2/10\n",
      "184/184 [==============================] - 35s 190ms/step - loss: 0.6711 - accuracy: 0.5717 - val_loss: 0.6418 - val_accuracy: 0.6100\n",
      "Epoch 3/10\n",
      "184/184 [==============================] - 38s 206ms/step - loss: 0.6514 - accuracy: 0.6089 - val_loss: 0.6098 - val_accuracy: 0.6710\n",
      "Epoch 4/10\n",
      "184/184 [==============================] - 45s 245ms/step - loss: 0.6177 - accuracy: 0.6538 - val_loss: 0.6050 - val_accuracy: 0.6198\n",
      "Epoch 5/10\n",
      "184/184 [==============================] - 34s 185ms/step - loss: 0.5854 - accuracy: 0.6851 - val_loss: 0.5548 - val_accuracy: 0.7146\n",
      "Epoch 6/10\n",
      "184/184 [==============================] - 34s 184ms/step - loss: 0.5470 - accuracy: 0.7226 - val_loss: 0.5311 - val_accuracy: 0.7298\n",
      "Epoch 7/10\n",
      "184/184 [==============================] - 31s 168ms/step - loss: 0.5224 - accuracy: 0.7487 - val_loss: 0.5563 - val_accuracy: 0.7102\n",
      "Epoch 8/10\n",
      "184/184 [==============================] - 34s 182ms/step - loss: 0.5055 - accuracy: 0.7669 - val_loss: 0.5234 - val_accuracy: 0.7538\n",
      "Epoch 9/10\n",
      "184/184 [==============================] - 32s 174ms/step - loss: 0.4885 - accuracy: 0.7794 - val_loss: 0.5510 - val_accuracy: 0.7168\n",
      "Epoch 10/10\n",
      "184/184 [==============================] - 31s 168ms/step - loss: 0.4671 - accuracy: 0.7928 - val_loss: 0.5098 - val_accuracy: 0.7680\n"
     ]
    }
   ],
   "source": [
    "hist2 = model2.fit(\n",
    "    train_gen2,\n",
    "    epochs=10,\n",
    "    validation_data=test_gen2\n",
    ")"
   ]
  },
  {
   "cell_type": "code",
   "execution_count": 49,
   "id": "3ce90fb4-e9ec-41cb-bfa3-fb00b7189118",
   "metadata": {
    "scrolled": true
   },
   "outputs": [
    {
     "data": {
      "text/plain": [
       "{'loss': [0.6850511431694031,\n",
       "  0.6711421608924866,\n",
       "  0.6513741612434387,\n",
       "  0.6177226305007935,\n",
       "  0.5853981971740723,\n",
       "  0.547035276889801,\n",
       "  0.5224263072013855,\n",
       "  0.5054835081100464,\n",
       "  0.48846909403800964,\n",
       "  0.46709221601486206],\n",
       " 'accuracy': [0.5395703315734863,\n",
       "  0.571661651134491,\n",
       "  0.6089203357696533,\n",
       "  0.6537938714027405,\n",
       "  0.6850693225860596,\n",
       "  0.7225999236106873,\n",
       "  0.748708188533783,\n",
       "  0.766929566860199,\n",
       "  0.7794397473335266,\n",
       "  0.7927658557891846],\n",
       " 'val_loss': [0.6568340063095093,\n",
       "  0.6418099403381348,\n",
       "  0.6098469495773315,\n",
       "  0.604968249797821,\n",
       "  0.5547739267349243,\n",
       "  0.5310815572738647,\n",
       "  0.5563026666641235,\n",
       "  0.5233651995658875,\n",
       "  0.550957441329956,\n",
       "  0.5098397731781006],\n",
       " 'val_accuracy': [0.586056649684906,\n",
       "  0.6100217700004578,\n",
       "  0.671023964881897,\n",
       "  0.6198257207870483,\n",
       "  0.7145969271659851,\n",
       "  0.7298474907875061,\n",
       "  0.7102396488189697,\n",
       "  0.7538126111030579,\n",
       "  0.7167755961418152,\n",
       "  0.7679738402366638]}"
      ]
     },
     "execution_count": 49,
     "metadata": {},
     "output_type": "execute_result"
    }
   ],
   "source": [
    "hist2.history"
   ]
  },
  {
   "cell_type": "code",
   "execution_count": 50,
   "id": "7731b741-3c6d-49b5-9a1b-3c10e4d51781",
   "metadata": {},
   "outputs": [
    {
     "data": {
      "text/plain": [
       "0.7038346230983734"
      ]
     },
     "execution_count": 50,
     "metadata": {},
     "output_type": "execute_result"
    }
   ],
   "source": [
    "np.median(hist2.history['accuracy'])"
   ]
  },
  {
   "cell_type": "markdown",
   "id": "2afe3c3e-98ae-41a2-ae83-82236ffa7dd6",
   "metadata": {},
   "source": [
    "# Question 4"
   ]
  },
  {
   "cell_type": "code",
   "execution_count": 51,
   "id": "f92f903f-bdde-4a6a-86a2-eb679b10c390",
   "metadata": {},
   "outputs": [
    {
     "data": {
      "text/plain": [
       "(0.5741194695234298, 0.07524853694974389)"
      ]
     },
     "execution_count": 51,
     "metadata": {},
     "output_type": "execute_result"
    }
   ],
   "source": [
    "np.mean(hist2.history['loss']), np.std(hist2.history['loss'])"
   ]
  },
  {
   "cell_type": "code",
   "execution_count": 52,
   "id": "43dfd453-6637-464b-8d71-4e47a649ab22",
   "metadata": {},
   "outputs": [
    {
     "data": {
      "text/plain": [
       "<matplotlib.legend.Legend at 0x131e53bb0>"
      ]
     },
     "execution_count": 52,
     "metadata": {},
     "output_type": "execute_result"
    },
    {
     "data": {
      "image/png": "[encoded data removed]",
      "text/plain": [
       "<Figure size 640x480 with 1 Axes>"
      ]
     },
     "metadata": {},
     "output_type": "display_data"
    }
   ],
   "source": [
    "plt.plot(hist2.history['accuracy'], label='train')\n",
    "plt.plot(hist2.history['val_accuracy'], label='val')\n",
    "plt.xticks(np.arange(10))\n",
    "plt.legend()"
   ]
  },
  {
   "cell_type": "code",
   "execution_count": 55,
   "id": "25bf41b0-e222-4363-985b-9c5e5d393f6e",
   "metadata": {},
   "outputs": [
    {
     "name": "stdout",
     "output_type": "stream",
     "text": [
      "Found 3677 images belonging to 2 classes.\n",
      "Found 918 images belonging to 2 classes.\n",
      "Epoch 1/10\n",
      "184/184 [==============================] - 51s 279ms/step - loss: 0.5203 - accuracy: 0.7601 - val_loss: 0.4988 - val_accuracy: 0.7625\n",
      "Epoch 2/10\n",
      "184/184 [==============================] - 51s 278ms/step - loss: 0.5114 - accuracy: 0.7522 - val_loss: 0.5067 - val_accuracy: 0.7745\n",
      "Epoch 3/10\n",
      "184/184 [==============================] - 55s 301ms/step - loss: 0.4962 - accuracy: 0.7667 - val_loss: 0.5058 - val_accuracy: 0.7712\n",
      "Epoch 4/10\n",
      "184/184 [==============================] - 56s 306ms/step - loss: 0.4894 - accuracy: 0.7713 - val_loss: 0.4749 - val_accuracy: 0.7876\n",
      "Epoch 5/10\n",
      "184/184 [==============================] - 56s 305ms/step - loss: 0.4900 - accuracy: 0.7645 - val_loss: 0.4782 - val_accuracy: 0.7810\n",
      "Epoch 6/10\n",
      "184/184 [==============================] - 53s 289ms/step - loss: 0.4798 - accuracy: 0.7754 - val_loss: 0.4901 - val_accuracy: 0.7658\n",
      "Epoch 7/10\n",
      "184/184 [==============================] - 50s 274ms/step - loss: 0.4806 - accuracy: 0.7811 - val_loss: 0.4639 - val_accuracy: 0.7865\n",
      "Epoch 8/10\n",
      "184/184 [==============================] - 51s 276ms/step - loss: 0.4732 - accuracy: 0.7784 - val_loss: 0.4899 - val_accuracy: 0.7647\n",
      "Epoch 9/10\n",
      "184/184 [==============================] - 50s 274ms/step - loss: 0.4689 - accuracy: 0.7800 - val_loss: 0.4928 - val_accuracy: 0.7593\n",
      "Epoch 10/10\n",
      "184/184 [==============================] - 51s 275ms/step - loss: 0.4641 - accuracy: 0.7849 - val_loss: 0.5599 - val_accuracy: 0.7037\n"
     ]
    }
   ],
   "source": [
    "train_data_gen3 = ImageDataGenerator(\n",
    "    rescale=1./255,\n",
    "    rotation_range=50,\n",
    "    width_shift_range=0.1,\n",
    "    height_shift_range=0.1,\n",
    "    zoom_range=0.1,\n",
    "    horizontal_flip=True,\n",
    "    fill_mode='nearest')\n",
    "train_gen3 = train_data_gen3.flow_from_directory(\n",
    "    train_data_dir,\n",
    "    target_size=(150, 150),\n",
    "    batch_size=20,\n",
    "    shuffle=True,\n",
    "    class_mode='binary',\n",
    ")\n",
    "\n",
    "test_data_gen3 = ImageDataGenerator(\n",
    "    rescale=1./255,\n",
    "    rotation_range=50,\n",
    "    width_shift_range=0.1,\n",
    "    height_shift_range=0.1,\n",
    "    zoom_range=0.1,\n",
    "    horizontal_flip=True,\n",
    "    fill_mode='nearest')\n",
    "test_gen3 = test_data_gen3.flow_from_directory(\n",
    "    test_data_dir,\n",
    "    target_size=(150, 150),\n",
    "    batch_size=20,\n",
    "    shuffle=True,\n",
    "    class_mode='binary'\n",
    ")\n",
    "\n",
    "hist3 = model2.fit(\n",
    "    train_gen3,\n",
    "    epochs=10,\n",
    "    validation_data=test_gen3\n",
    ")"
   ]
  },
  {
   "cell_type": "code",
   "execution_count": 56,
   "id": "1ed0d611-67e9-4b5d-a0b9-d92ce3d2bf1c",
   "metadata": {},
   "outputs": [
    {
     "data": {
      "text/plain": [
       "{'loss': [0.520334005355835,\n",
       "  0.5114219784736633,\n",
       "  0.49618402123451233,\n",
       "  0.489430695772171,\n",
       "  0.4900418221950531,\n",
       "  0.4797976016998291,\n",
       "  0.48056745529174805,\n",
       "  0.47318243980407715,\n",
       "  0.4689139723777771,\n",
       "  0.4641149044036865],\n",
       " 'accuracy': [0.7601305246353149,\n",
       "  0.75224369764328,\n",
       "  0.7666575908660889,\n",
       "  0.7712809443473816,\n",
       "  0.7644819021224976,\n",
       "  0.7753603458404541,\n",
       "  0.7810715436935425,\n",
       "  0.778351902961731,\n",
       "  0.7799836993217468,\n",
       "  0.7848789691925049],\n",
       " 'val_loss': [0.49880704283714294,\n",
       "  0.5066530108451843,\n",
       "  0.5057936906814575,\n",
       "  0.474867582321167,\n",
       "  0.47817713022232056,\n",
       "  0.49012812972068787,\n",
       "  0.4638565480709076,\n",
       "  0.4898778796195984,\n",
       "  0.4927843511104584,\n",
       "  0.5599122047424316],\n",
       " 'val_accuracy': [0.7625272274017334,\n",
       "  0.7745097875595093,\n",
       "  0.7712418437004089,\n",
       "  0.7875816822052002,\n",
       "  0.7810457348823547,\n",
       "  0.7657952308654785,\n",
       "  0.7864923477172852,\n",
       "  0.7647058963775635,\n",
       "  0.7592592835426331,\n",
       "  0.7037037014961243]}"
      ]
     },
     "execution_count": 56,
     "metadata": {},
     "output_type": "execute_result"
    }
   ],
   "source": [
    "hist3.history"
   ]
  },
  {
   "cell_type": "markdown",
   "id": "bbdb11f2-dca9-465d-b16e-a6ea1ac483d8",
   "metadata": {},
   "source": [
    "# Question 5"
   ]
  },
  {
   "cell_type": "code",
   "execution_count": 58,
   "id": "b3e6dee1-a1e9-4a6a-9e65-cf42f07c27db",
   "metadata": {},
   "outputs": [
    {
     "data": {
      "text/plain": [
       "0.49608575701713564"
      ]
     },
     "execution_count": 58,
     "metadata": {},
     "output_type": "execute_result"
    }
   ],
   "source": [
    "np.mean(hist3.history['val_loss'])"
   ]
  },
  {
   "cell_type": "markdown",
   "id": "57bb285c-9fac-48d5-92ef-c52386e7be5c",
   "metadata": {},
   "source": [
    "# Question 6"
   ]
  },
  {
   "cell_type": "code",
   "execution_count": 59,
   "id": "0b704b11-1dfd-46f4-a4e5-bdfcfd4ffb46",
   "metadata": {},
   "outputs": [
    {
     "data": {
      "text/plain": [
       "0.7559912919998169"
      ]
     },
     "execution_count": 59,
     "metadata": {},
     "output_type": "execute_result"
    }
   ],
   "source": [
    "np.mean(hist3.history['val_accuracy'][5:])"
   ]
  },
  {
   "cell_type": "code",
   "execution_count": null,
   "id": "bdd9f751-954f-4520-a1e1-f3cf0224d671",
   "metadata": {},
   "outputs": [],
   "source": []
  }
 ],
 "metadata": {
  "kernelspec": {
   "display_name": "Python 3 (ipykernel)",
   "language": "python",
   "name": "python3"
  },
  "language_info": {
   "codemirror_mode": {
    "name": "ipython",
    "version": 3
   },
   "file_extension": ".py",
   "mimetype": "text/x-python",
   "name": "python",
   "nbconvert_exporter": "python",
   "pygments_lexer": "ipython3",
   "version": "3.10.6"
  }
 },
 "nbformat": 4,
 "nbformat_minor": 5
}
