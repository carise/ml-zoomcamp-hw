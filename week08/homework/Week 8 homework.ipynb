{
 "cells": [
  {
   "cell_type": "code",
   "execution_count": 1,
   "id": "665f2c03-cd3f-4655-b24f-95377952048a",
   "metadata": {
    "execution": {
     "iopub.execute_input": "2023-11-15T07:35:51.928239Z",
     "iopub.status.busy": "2023-11-15T07:35:51.928007Z",
     "iopub.status.idle": "2023-11-15T07:35:54.749504Z",
     "shell.execute_reply": "2023-11-15T07:35:54.748847Z",
     "shell.execute_reply.started": "2023-11-15T07:35:51.928188Z"
    }
   },
   "outputs": [
    {
     "name": "stderr",
     "output_type": "stream",
     "text": [
      "2023-11-15 07:35:53.340247: I tensorflow/core/util/util.cc:169] oneDNN custom operations are on. You may see slightly different numerical results due to floating-point round-off errors from different computation orders. To turn them off, set the environment variable `TF_ENABLE_ONEDNN_OPTS=0`.\n"
     ]
    }
   ],
   "source": [
    "import pandas as pd\n",
    "import numpy as np\n",
    "import matplotlib.pyplot as plt\n",
    "import seaborn as sns\n",
    "\n",
    "import tensorflow as tf\n",
    "from tensorflow import keras\n",
    "\n",
    "%matplotlib inline"
   ]
  },
  {
   "cell_type": "markdown",
   "id": "9aff4471-ab5f-4b5a-a1a6-11164788ebf4",
   "metadata": {},
   "source": [
    "# Data preparation"
   ]
  },
  {
   "cell_type": "code",
   "execution_count": 2,
   "id": "27cbe691-d3b3-429a-a508-c1d42ea9fbd9",
   "metadata": {
    "execution": {
     "iopub.execute_input": "2023-11-15T07:35:54.754091Z",
     "iopub.status.busy": "2023-11-15T07:35:54.753628Z",
     "iopub.status.idle": "2023-11-15T07:35:54.759530Z",
     "shell.execute_reply": "2023-11-15T07:35:54.758786Z",
     "shell.execute_reply.started": "2023-11-15T07:35:54.754067Z"
    }
   },
   "outputs": [],
   "source": [
    "from tensorflow.keras.applications.xception import Xception, preprocess_input\n",
    "from tensorflow.keras.preprocessing.image import ImageDataGenerator"
   ]
  },
  {
   "cell_type": "code",
   "execution_count": 3,
   "id": "650eef88-fd6a-4772-9fd4-5d3f00fcafb3",
   "metadata": {
    "execution": {
     "iopub.execute_input": "2023-11-15T07:35:54.760738Z",
     "iopub.status.busy": "2023-11-15T07:35:54.760429Z",
     "iopub.status.idle": "2023-11-15T07:35:54.766509Z",
     "shell.execute_reply": "2023-11-15T07:35:54.765796Z",
     "shell.execute_reply.started": "2023-11-15T07:35:54.760716Z"
    }
   },
   "outputs": [],
   "source": [
    "def make_model(input_shape, conv_filters, conv_kernel_size, pool_size, learning_rate=0.002, momentum=0.8):\n",
    "    inputs = keras.Input(shape=input_shape)\n",
    "\n",
    "    cnn_layer = keras.layers.Conv2D(\n",
    "        conv_filters,\n",
    "        conv_kernel_size,\n",
    "        activation='relu',\n",
    "    )(inputs)\n",
    "    \n",
    "    pooling_layer = keras.layers.MaxPooling2D(pool_size=pool_size)(cnn_layer)\n",
    "    vectors = keras.layers.Flatten()(pooling_layer)\n",
    "    inner = keras.layers.Dense(64, activation='relu')(vectors)\n",
    "    outputs = keras.layers.Dense(1, activation='sigmoid')(inner)\n",
    "    \n",
    "    model = keras.Model(inputs, outputs)\n",
    "    \n",
    "    optimizer = keras.optimizers.SGD(learning_rate=learning_rate, momentum=momentum)\n",
    "    loss = keras.losses.BinaryCrossentropy()\n",
    "    \n",
    "    model.compile(optimizer=optimizer, loss=loss, metrics=['accuracy'])\n",
    "\n",
    "    return model\n"
   ]
  },
  {
   "cell_type": "code",
   "execution_count": 4,
   "id": "d1c0d364-21e1-4566-8842-c60bb4a0b9e7",
   "metadata": {
    "execution": {
     "iopub.execute_input": "2023-11-15T07:35:54.767635Z",
     "iopub.status.busy": "2023-11-15T07:35:54.767384Z",
     "iopub.status.idle": "2023-11-15T07:35:54.883745Z",
     "shell.execute_reply": "2023-11-15T07:35:54.882895Z",
     "shell.execute_reply.started": "2023-11-15T07:35:54.767615Z"
    }
   },
   "outputs": [
    {
     "name": "stdout",
     "output_type": "stream",
     "text": [
      "Found 2758 images belonging to 2 classes.\n",
      "Found 919 images belonging to 2 classes.\n"
     ]
    }
   ],
   "source": [
    "# total images in train/test is 4595\n",
    "# validation_split is 0.25\n",
    "train_data_dir = './data/train'\n",
    "test_data_dir = './data/test'\n",
    "train_gen = ImageDataGenerator(preprocessing_function=preprocess_input, validation_split=0.25)\n",
    "\n",
    "train_ds = train_gen.flow_from_directory(\n",
    "    train_data_dir,\n",
    "    target_size=(150, 150),\n",
    "    batch_size=32,\n",
    "    subset='training',\n",
    "    class_mode='binary',\n",
    ")\n",
    "\n",
    "val_ds = train_gen.flow_from_directory(\n",
    "    train_data_dir,\n",
    "    target_size=(150, 150),\n",
    "    batch_size=32,\n",
    "    subset='validation',\n",
    "    class_mode='binary'\n",
    ")"
   ]
  },
  {
   "cell_type": "code",
   "execution_count": 5,
   "id": "33d8be61-7115-459a-8a27-848f9454a315",
   "metadata": {
    "execution": {
     "iopub.execute_input": "2023-11-15T07:35:54.885032Z",
     "iopub.status.busy": "2023-11-15T07:35:54.884724Z",
     "iopub.status.idle": "2023-11-15T07:35:54.890775Z",
     "shell.execute_reply": "2023-11-15T07:35:54.890176Z",
     "shell.execute_reply.started": "2023-11-15T07:35:54.885009Z"
    }
   },
   "outputs": [
    {
     "data": {
      "text/plain": [
       "({'bee': 0, 'wasp': 1}, {'bee': 0, 'wasp': 1})"
      ]
     },
     "execution_count": 5,
     "metadata": {},
     "output_type": "execute_result"
    }
   ],
   "source": [
    "train_ds.class_indices, val_ds.class_indices"
   ]
  },
  {
   "cell_type": "code",
   "execution_count": 6,
   "id": "9ba72c1c-29a8-44f9-926d-8046aecd936b",
   "metadata": {
    "execution": {
     "iopub.execute_input": "2023-11-15T07:35:54.892010Z",
     "iopub.status.busy": "2023-11-15T07:35:54.891588Z",
     "iopub.status.idle": "2023-11-15T07:35:55.891134Z",
     "shell.execute_reply": "2023-11-15T07:35:55.890318Z",
     "shell.execute_reply.started": "2023-11-15T07:35:54.891988Z"
    }
   },
   "outputs": [
    {
     "name": "stderr",
     "output_type": "stream",
     "text": [
      "2023-11-15 07:35:54.960630: I tensorflow/stream_executor/cuda/cuda_gpu_executor.cc:975] successful NUMA node read from SysFS had negative value (-1), but there must be at least one NUMA node, so returning NUMA node zero\n",
      "2023-11-15 07:35:54.967863: I tensorflow/stream_executor/cuda/cuda_gpu_executor.cc:975] successful NUMA node read from SysFS had negative value (-1), but there must be at least one NUMA node, so returning NUMA node zero\n",
      "2023-11-15 07:35:54.968494: I tensorflow/stream_executor/cuda/cuda_gpu_executor.cc:975] successful NUMA node read from SysFS had negative value (-1), but there must be at least one NUMA node, so returning NUMA node zero\n",
      "2023-11-15 07:35:54.969433: I tensorflow/core/platform/cpu_feature_guard.cc:193] This TensorFlow binary is optimized with oneAPI Deep Neural Network Library (oneDNN) to use the following CPU instructions in performance-critical operations:  AVX2 AVX512F AVX512_VNNI FMA\n",
      "To enable them in other operations, rebuild TensorFlow with the appropriate compiler flags.\n",
      "2023-11-15 07:35:54.969826: I tensorflow/stream_executor/cuda/cuda_gpu_executor.cc:975] successful NUMA node read from SysFS had negative value (-1), but there must be at least one NUMA node, so returning NUMA node zero\n",
      "2023-11-15 07:35:54.970434: I tensorflow/stream_executor/cuda/cuda_gpu_executor.cc:975] successful NUMA node read from SysFS had negative value (-1), but there must be at least one NUMA node, so returning NUMA node zero\n",
      "2023-11-15 07:35:54.970985: I tensorflow/stream_executor/cuda/cuda_gpu_executor.cc:975] successful NUMA node read from SysFS had negative value (-1), but there must be at least one NUMA node, so returning NUMA node zero\n",
      "2023-11-15 07:35:55.595584: I tensorflow/stream_executor/cuda/cuda_gpu_executor.cc:975] successful NUMA node read from SysFS had negative value (-1), but there must be at least one NUMA node, so returning NUMA node zero\n",
      "2023-11-15 07:35:55.596214: I tensorflow/stream_executor/cuda/cuda_gpu_executor.cc:975] successful NUMA node read from SysFS had negative value (-1), but there must be at least one NUMA node, so returning NUMA node zero\n",
      "2023-11-15 07:35:55.596783: I tensorflow/stream_executor/cuda/cuda_gpu_executor.cc:975] successful NUMA node read from SysFS had negative value (-1), but there must be at least one NUMA node, so returning NUMA node zero\n",
      "2023-11-15 07:35:55.597326: I tensorflow/core/common_runtime/gpu/gpu_device.cc:1532] Created device /job:localhost/replica:0/task:0/device:GPU:0 with 13795 MB memory:  -> device: 0, name: Tesla T4, pci bus id: 0000:00:1e.0, compute capability: 7.5\n"
     ]
    }
   ],
   "source": [
    "model = make_model((150, 150, 3), 32, (3, 3), (2, 2), learning_rate=0.002, momentum=0.8)"
   ]
  },
  {
   "cell_type": "code",
   "execution_count": 7,
   "id": "ac191d9d-804f-4c6c-9d46-e54f538f8512",
   "metadata": {
    "execution": {
     "iopub.execute_input": "2023-11-15T07:35:55.893561Z",
     "iopub.status.busy": "2023-11-15T07:35:55.893257Z",
     "iopub.status.idle": "2023-11-15T07:37:14.101705Z",
     "shell.execute_reply": "2023-11-15T07:37:14.100927Z",
     "shell.execute_reply.started": "2023-11-15T07:35:55.893540Z"
    },
    "scrolled": true
   },
   "outputs": [
    {
     "name": "stdout",
     "output_type": "stream",
     "text": [
      "Epoch 1/10\n"
     ]
    },
    {
     "name": "stderr",
     "output_type": "stream",
     "text": [
      "2023-11-15 07:35:57.084794: I tensorflow/stream_executor/cuda/cuda_dnn.cc:384] Loaded cuDNN version 8100\n",
      "2023-11-15 07:35:57.715145: I tensorflow/core/platform/default/subprocess.cc:304] Start cannot spawn child process: No such file or directory\n",
      "2023-11-15 07:35:57.716012: I tensorflow/core/platform/default/subprocess.cc:304] Start cannot spawn child process: No such file or directory\n",
      "2023-11-15 07:35:57.716050: W tensorflow/stream_executor/gpu/asm_compiler.cc:80] Couldn't get ptxas version string: INTERNAL: Couldn't invoke ptxas --version\n",
      "2023-11-15 07:35:57.716971: I tensorflow/core/platform/default/subprocess.cc:304] Start cannot spawn child process: No such file or directory\n",
      "2023-11-15 07:35:57.717053: W tensorflow/stream_executor/gpu/redzone_allocator.cc:314] INTERNAL: Failed to launch ptxas\n",
      "Relying on driver to perform ptx compilation. \n",
      "Modify $PATH to customize ptxas location.\n",
      "This message will be only logged once.\n"
     ]
    },
    {
     "name": "stdout",
     "output_type": "stream",
     "text": [
      "87/87 [==============================] - 10s 89ms/step - loss: 0.6566 - accuracy: 0.6099 - val_loss: 0.5818 - val_accuracy: 0.7301\n",
      "Epoch 2/10\n",
      "87/87 [==============================] - 8s 87ms/step - loss: 0.5417 - accuracy: 0.7350 - val_loss: 0.5228 - val_accuracy: 0.7486\n",
      "Epoch 3/10\n",
      "87/87 [==============================] - 8s 87ms/step - loss: 0.4862 - accuracy: 0.7719 - val_loss: 0.5193 - val_accuracy: 0.7388\n",
      "Epoch 4/10\n",
      "87/87 [==============================] - 8s 86ms/step - loss: 0.4146 - accuracy: 0.8231 - val_loss: 0.5248 - val_accuracy: 0.7476\n",
      "Epoch 5/10\n",
      "87/87 [==============================] - 8s 88ms/step - loss: 0.3626 - accuracy: 0.8611 - val_loss: 0.5173 - val_accuracy: 0.7563\n",
      "Epoch 6/10\n",
      "87/87 [==============================] - 8s 87ms/step - loss: 0.3305 - accuracy: 0.8666 - val_loss: 0.5546 - val_accuracy: 0.7095\n",
      "Epoch 7/10\n",
      "87/87 [==============================] - 7s 86ms/step - loss: 0.2861 - accuracy: 0.8869 - val_loss: 0.5669 - val_accuracy: 0.7182\n",
      "Epoch 8/10\n",
      "87/87 [==============================] - 7s 86ms/step - loss: 0.2456 - accuracy: 0.9072 - val_loss: 0.5536 - val_accuracy: 0.7301\n",
      "Epoch 9/10\n",
      "87/87 [==============================] - 8s 87ms/step - loss: 0.2105 - accuracy: 0.9315 - val_loss: 0.5973 - val_accuracy: 0.7160\n",
      "Epoch 10/10\n",
      "87/87 [==============================] - 7s 86ms/step - loss: 0.1607 - accuracy: 0.9529 - val_loss: 0.5666 - val_accuracy: 0.7421\n"
     ]
    }
   ],
   "source": [
    "history = model.fit(train_ds, epochs=10, validation_data=val_ds)"
   ]
  },
  {
   "cell_type": "markdown",
   "id": "f81a09f3-32ce-4a64-9779-3d6157028bc4",
   "metadata": {},
   "source": [
    "# Question 1"
   ]
  },
  {
   "cell_type": "code",
   "execution_count": 8,
   "id": "2ae5c56b-4ab5-4ecd-803b-4f74c49744fb",
   "metadata": {
    "execution": {
     "iopub.execute_input": "2023-11-15T07:37:14.103043Z",
     "iopub.status.busy": "2023-11-15T07:37:14.102722Z",
     "iopub.status.idle": "2023-11-15T07:37:14.106871Z",
     "shell.execute_reply": "2023-11-15T07:37:14.106043Z",
     "shell.execute_reply.started": "2023-11-15T07:37:14.103022Z"
    }
   },
   "outputs": [],
   "source": [
    "# use binary cross entropy loss function for binary classification"
   ]
  },
  {
   "cell_type": "markdown",
   "id": "71b4c502-48b9-47c7-bf0e-dbad3d93f1eb",
   "metadata": {},
   "source": [
    "# Question 2"
   ]
  },
  {
   "cell_type": "code",
   "execution_count": 9,
   "id": "1a83511f-6c27-47ca-bad0-90203de1eff0",
   "metadata": {
    "execution": {
     "iopub.execute_input": "2023-11-15T07:37:14.108133Z",
     "iopub.status.busy": "2023-11-15T07:37:14.107861Z",
     "iopub.status.idle": "2023-11-15T07:37:14.126513Z",
     "shell.execute_reply": "2023-11-15T07:37:14.125866Z",
     "shell.execute_reply.started": "2023-11-15T07:37:14.108112Z"
    }
   },
   "outputs": [
    {
     "name": "stdout",
     "output_type": "stream",
     "text": [
      "Model: \"model\"\n",
      "_________________________________________________________________\n",
      " Layer (type)                Output Shape              Param #   \n",
      "=================================================================\n",
      " input_1 (InputLayer)        [(None, 150, 150, 3)]     0         \n",
      "                                                                 \n",
      " conv2d (Conv2D)             (None, 148, 148, 32)      896       \n",
      "                                                                 \n",
      " max_pooling2d (MaxPooling2D  (None, 74, 74, 32)       0         \n",
      " )                                                               \n",
      "                                                                 \n",
      " flatten (Flatten)           (None, 175232)            0         \n",
      "                                                                 \n",
      " dense (Dense)               (None, 64)                11214912  \n",
      "                                                                 \n",
      " dense_1 (Dense)             (None, 1)                 65        \n",
      "                                                                 \n",
      "=================================================================\n",
      "Total params: 11,215,873\n",
      "Trainable params: 11,215,873\n",
      "Non-trainable params: 0\n",
      "_________________________________________________________________\n"
     ]
    }
   ],
   "source": [
    "model.summary()"
   ]
  },
  {
   "cell_type": "markdown",
   "id": "8fe6601a-c0eb-4f06-92aa-f409b81d9fbc",
   "metadata": {},
   "source": [
    "# Question 3"
   ]
  },
  {
   "cell_type": "code",
   "execution_count": 10,
   "id": "08480421-e2cb-4090-8d81-8324377c2e65",
   "metadata": {
    "execution": {
     "iopub.execute_input": "2023-11-15T07:37:14.127749Z",
     "iopub.status.busy": "2023-11-15T07:37:14.127455Z",
     "iopub.status.idle": "2023-11-15T07:37:14.294488Z",
     "shell.execute_reply": "2023-11-15T07:37:14.293585Z",
     "shell.execute_reply.started": "2023-11-15T07:37:14.127727Z"
    }
   },
   "outputs": [
    {
     "name": "stdout",
     "output_type": "stream",
     "text": [
      "Found 3677 images belonging to 2 classes.\n",
      "Found 918 images belonging to 2 classes.\n"
     ]
    }
   ],
   "source": [
    "train_data_gen2 = ImageDataGenerator(rescale=1./255)\n",
    "train_gen2 = train_data_gen2.flow_from_directory(\n",
    "    train_data_dir,\n",
    "    target_size=(150, 150),\n",
    "    batch_size=20,\n",
    "    shuffle=True,\n",
    "    class_mode='binary',\n",
    ")\n",
    "\n",
    "test_data_gen2 = ImageDataGenerator(rescale=1./255)\n",
    "test_gen2 = test_data_gen2.flow_from_directory(\n",
    "    test_data_dir,\n",
    "    target_size=(150, 150),\n",
    "    batch_size=20,\n",
    "    shuffle=True,\n",
    "    class_mode='binary'\n",
    ")\n",
    "\n",
    "model2 = make_model((150, 150, 3), 32, (3, 3), (2, 2), learning_rate=0.002, momentum=0.8)"
   ]
  },
  {
   "cell_type": "code",
   "execution_count": 11,
   "id": "93d4c198-e835-4d44-9604-a08eea9ec020",
   "metadata": {
    "execution": {
     "iopub.execute_input": "2023-11-15T07:37:14.295793Z",
     "iopub.status.busy": "2023-11-15T07:37:14.295528Z",
     "iopub.status.idle": "2023-11-15T07:38:44.781224Z",
     "shell.execute_reply": "2023-11-15T07:38:44.780359Z",
     "shell.execute_reply.started": "2023-11-15T07:37:14.295771Z"
    }
   },
   "outputs": [
    {
     "name": "stdout",
     "output_type": "stream",
     "text": [
      "Epoch 1/10\n",
      "184/184 [==============================] - 10s 50ms/step - loss: 0.6840 - accuracy: 0.5469 - val_loss: 0.6400 - val_accuracy: 0.6590\n",
      "Epoch 2/10\n",
      "184/184 [==============================] - 9s 49ms/step - loss: 0.6274 - accuracy: 0.6492 - val_loss: 0.5751 - val_accuracy: 0.7081\n",
      "Epoch 3/10\n",
      "184/184 [==============================] - 9s 49ms/step - loss: 0.5668 - accuracy: 0.7202 - val_loss: 0.5373 - val_accuracy: 0.7484\n",
      "Epoch 4/10\n",
      "184/184 [==============================] - 9s 48ms/step - loss: 0.5321 - accuracy: 0.7487 - val_loss: 0.5321 - val_accuracy: 0.7516\n",
      "Epoch 5/10\n",
      "184/184 [==============================] - 9s 48ms/step - loss: 0.4930 - accuracy: 0.7724 - val_loss: 0.5021 - val_accuracy: 0.7614\n",
      "Epoch 6/10\n",
      "184/184 [==============================] - 9s 49ms/step - loss: 0.4667 - accuracy: 0.7895 - val_loss: 0.5316 - val_accuracy: 0.7429\n",
      "Epoch 7/10\n",
      "184/184 [==============================] - 9s 49ms/step - loss: 0.4542 - accuracy: 0.7914 - val_loss: 0.5169 - val_accuracy: 0.7462\n",
      "Epoch 8/10\n",
      "184/184 [==============================] - 9s 49ms/step - loss: 0.4281 - accuracy: 0.8094 - val_loss: 0.4949 - val_accuracy: 0.7723\n",
      "Epoch 9/10\n",
      "184/184 [==============================] - 9s 49ms/step - loss: 0.3970 - accuracy: 0.8300 - val_loss: 0.5050 - val_accuracy: 0.7636\n",
      "Epoch 10/10\n",
      "184/184 [==============================] - 9s 48ms/step - loss: 0.3596 - accuracy: 0.8561 - val_loss: 0.4863 - val_accuracy: 0.7723\n"
     ]
    }
   ],
   "source": [
    "hist2 = model2.fit(\n",
    "    train_gen2,\n",
    "    epochs=10,\n",
    "    validation_data=test_gen2\n",
    ")"
   ]
  },
  {
   "cell_type": "code",
   "execution_count": 12,
   "id": "3ce90fb4-e9ec-41cb-bfa3-fb00b7189118",
   "metadata": {
    "execution": {
     "iopub.execute_input": "2023-11-15T07:38:44.782570Z",
     "iopub.status.busy": "2023-11-15T07:38:44.782259Z",
     "iopub.status.idle": "2023-11-15T07:38:44.789713Z",
     "shell.execute_reply": "2023-11-15T07:38:44.788910Z",
     "shell.execute_reply.started": "2023-11-15T07:38:44.782549Z"
    },
    "scrolled": true
   },
   "outputs": [
    {
     "data": {
      "text/plain": [
       "{'loss': [0.6839776039123535,\n",
       "  0.6274035573005676,\n",
       "  0.5667725205421448,\n",
       "  0.5321293473243713,\n",
       "  0.49297329783439636,\n",
       "  0.46669018268585205,\n",
       "  0.4541541337966919,\n",
       "  0.4281201958656311,\n",
       "  0.39701613783836365,\n",
       "  0.3596350848674774],\n",
       " 'accuracy': [0.5469132661819458,\n",
       "  0.6491705179214478,\n",
       "  0.7201523184776306,\n",
       "  0.748708188533783,\n",
       "  0.7723687887191772,\n",
       "  0.7895023226737976,\n",
       "  0.7914060354232788,\n",
       "  0.8093554377555847,\n",
       "  0.8300244808197021,\n",
       "  0.8561327457427979],\n",
       " 'val_loss': [0.639959454536438,\n",
       "  0.5751366019248962,\n",
       "  0.5373030304908752,\n",
       "  0.5320919752120972,\n",
       "  0.5020678043365479,\n",
       "  0.5315564274787903,\n",
       "  0.5169405341148376,\n",
       "  0.4949134588241577,\n",
       "  0.5050123929977417,\n",
       "  0.486267626285553],\n",
       " 'val_accuracy': [0.6590414047241211,\n",
       "  0.7080609798431396,\n",
       "  0.7483659982681274,\n",
       "  0.7516340017318726,\n",
       "  0.7614378929138184,\n",
       "  0.742919385433197,\n",
       "  0.7461873888969421,\n",
       "  0.772331178188324,\n",
       "  0.7636165618896484,\n",
       "  0.772331178188324]}"
      ]
     },
     "execution_count": 12,
     "metadata": {},
     "output_type": "execute_result"
    }
   ],
   "source": [
    "hist2.history"
   ]
  },
  {
   "cell_type": "code",
   "execution_count": 13,
   "id": "7731b741-3c6d-49b5-9a1b-3c10e4d51781",
   "metadata": {
    "execution": {
     "iopub.execute_input": "2023-11-15T07:38:44.790835Z",
     "iopub.status.busy": "2023-11-15T07:38:44.790624Z",
     "iopub.status.idle": "2023-11-15T07:38:44.796862Z",
     "shell.execute_reply": "2023-11-15T07:38:44.796071Z",
     "shell.execute_reply.started": "2023-11-15T07:38:44.790816Z"
    }
   },
   "outputs": [
    {
     "data": {
      "text/plain": [
       "0.7809355556964874"
      ]
     },
     "execution_count": 13,
     "metadata": {},
     "output_type": "execute_result"
    }
   ],
   "source": [
    "np.median(hist2.history['accuracy'])"
   ]
  },
  {
   "cell_type": "markdown",
   "id": "2afe3c3e-98ae-41a2-ae83-82236ffa7dd6",
   "metadata": {},
   "source": [
    "# Question 4"
   ]
  },
  {
   "cell_type": "code",
   "execution_count": 14,
   "id": "f92f903f-bdde-4a6a-86a2-eb679b10c390",
   "metadata": {
    "execution": {
     "iopub.execute_input": "2023-11-15T07:38:44.798306Z",
     "iopub.status.busy": "2023-11-15T07:38:44.797990Z",
     "iopub.status.idle": "2023-11-15T07:38:44.804327Z",
     "shell.execute_reply": "2023-11-15T07:38:44.803634Z",
     "shell.execute_reply.started": "2023-11-15T07:38:44.798285Z"
    }
   },
   "outputs": [
    {
     "data": {
      "text/plain": [
       "(0.500887206196785, 0.09710709124152314)"
      ]
     },
     "execution_count": 14,
     "metadata": {},
     "output_type": "execute_result"
    }
   ],
   "source": [
    "np.mean(hist2.history['loss']), np.std(hist2.history['loss'])"
   ]
  },
  {
   "cell_type": "code",
   "execution_count": 15,
   "id": "43dfd453-6637-464b-8d71-4e47a649ab22",
   "metadata": {
    "execution": {
     "iopub.execute_input": "2023-11-15T07:38:44.805598Z",
     "iopub.status.busy": "2023-11-15T07:38:44.805316Z",
     "iopub.status.idle": "2023-11-15T07:38:44.969672Z",
     "shell.execute_reply": "2023-11-15T07:38:44.968769Z",
     "shell.execute_reply.started": "2023-11-15T07:38:44.805568Z"
    }
   },
   "outputs": [
    {
     "data": {
      "text/plain": [
       "<matplotlib.legend.Legend at 0x7f3d50b3d4f0>"
      ]
     },
     "execution_count": 15,
     "metadata": {},
     "output_type": "execute_result"
    },
    {
     "data": {
      "image/png": "[encoded data removed]",
      "text/plain": [
       "<Figure size 640x480 with 1 Axes>"
      ]
     },
     "metadata": {},
     "output_type": "display_data"
    }
   ],
   "source": [
    "plt.plot(hist2.history['accuracy'], label='train')\n",
    "plt.plot(hist2.history['val_accuracy'], label='val')\n",
    "plt.xticks(np.arange(10))\n",
    "plt.legend()"
   ]
  },
  {
   "cell_type": "code",
   "execution_count": 16,
   "id": "25bf41b0-e222-4363-985b-9c5e5d393f6e",
   "metadata": {
    "execution": {
     "iopub.execute_input": "2023-11-15T07:38:44.971145Z",
     "iopub.status.busy": "2023-11-15T07:38:44.970769Z",
     "iopub.status.idle": "2023-11-15T07:43:47.426387Z",
     "shell.execute_reply": "2023-11-15T07:43:47.425662Z",
     "shell.execute_reply.started": "2023-11-15T07:38:44.971122Z"
    }
   },
   "outputs": [
    {
     "name": "stdout",
     "output_type": "stream",
     "text": [
      "Found 3677 images belonging to 2 classes.\n",
      "Found 918 images belonging to 2 classes.\n",
      "Epoch 1/10\n",
      "184/184 [==============================] - 29s 159ms/step - loss: 0.4949 - accuracy: 0.7718 - val_loss: 0.5183 - val_accuracy: 0.7549\n",
      "Epoch 2/10\n",
      "184/184 [==============================] - 29s 157ms/step - loss: 0.4848 - accuracy: 0.7729 - val_loss: 0.5004 - val_accuracy: 0.7636\n",
      "Epoch 3/10\n",
      "184/184 [==============================] - 29s 158ms/step - loss: 0.4772 - accuracy: 0.7808 - val_loss: 0.4938 - val_accuracy: 0.7538\n",
      "Epoch 4/10\n",
      "184/184 [==============================] - 29s 158ms/step - loss: 0.4756 - accuracy: 0.7822 - val_loss: 0.4695 - val_accuracy: 0.7930\n",
      "Epoch 5/10\n",
      "184/184 [==============================] - 29s 158ms/step - loss: 0.4811 - accuracy: 0.7770 - val_loss: 0.4647 - val_accuracy: 0.7843\n",
      "Epoch 6/10\n",
      "184/184 [==============================] - 29s 157ms/step - loss: 0.4646 - accuracy: 0.7852 - val_loss: 0.5163 - val_accuracy: 0.7647\n",
      "Epoch 7/10\n",
      "184/184 [==============================] - 29s 157ms/step - loss: 0.4692 - accuracy: 0.7887 - val_loss: 0.4720 - val_accuracy: 0.7930\n",
      "Epoch 8/10\n",
      "184/184 [==============================] - 29s 158ms/step - loss: 0.4602 - accuracy: 0.7830 - val_loss: 0.4791 - val_accuracy: 0.7789\n",
      "Epoch 9/10\n",
      "184/184 [==============================] - 29s 157ms/step - loss: 0.4594 - accuracy: 0.7884 - val_loss: 0.4697 - val_accuracy: 0.7723\n",
      "Epoch 10/10\n",
      "184/184 [==============================] - 29s 158ms/step - loss: 0.4573 - accuracy: 0.7947 - val_loss: 0.4627 - val_accuracy: 0.7908\n"
     ]
    }
   ],
   "source": [
    "train_data_gen3 = ImageDataGenerator(\n",
    "    rescale=1./255,\n",
    "    rotation_range=50,\n",
    "    width_shift_range=0.1,\n",
    "    height_shift_range=0.1,\n",
    "    zoom_range=0.1,\n",
    "    horizontal_flip=True,\n",
    "    fill_mode='nearest')\n",
    "train_gen3 = train_data_gen3.flow_from_directory(\n",
    "    train_data_dir,\n",
    "    target_size=(150, 150),\n",
    "    batch_size=20,\n",
    "    shuffle=True,\n",
    "    class_mode='binary',\n",
    ")\n",
    "\n",
    "test_data_gen3 = ImageDataGenerator(\n",
    "    rescale=1./255,\n",
    "    rotation_range=50,\n",
    "    width_shift_range=0.1,\n",
    "    height_shift_range=0.1,\n",
    "    zoom_range=0.1,\n",
    "    horizontal_flip=True,\n",
    "    fill_mode='nearest')\n",
    "test_gen3 = test_data_gen3.flow_from_directory(\n",
    "    test_data_dir,\n",
    "    target_size=(150, 150),\n",
    "    batch_size=20,\n",
    "    shuffle=True,\n",
    "    class_mode='binary'\n",
    ")\n",
    "\n",
    "hist3 = model2.fit(\n",
    "    train_gen3,\n",
    "    epochs=10,\n",
    "    validation_data=test_gen3\n",
    ")"
   ]
  },
  {
   "cell_type": "code",
   "execution_count": 17,
   "id": "1ed0d611-67e9-4b5d-a0b9-d92ce3d2bf1c",
   "metadata": {
    "execution": {
     "iopub.execute_input": "2023-11-15T07:43:47.427833Z",
     "iopub.status.busy": "2023-11-15T07:43:47.427522Z",
     "iopub.status.idle": "2023-11-15T07:43:47.432866Z",
     "shell.execute_reply": "2023-11-15T07:43:47.432043Z",
     "shell.execute_reply.started": "2023-11-15T07:43:47.427812Z"
    }
   },
   "outputs": [
    {
     "data": {
      "text/plain": [
       "{'loss': [0.4948725402355194,\n",
       "  0.48481136560440063,\n",
       "  0.4772433340549469,\n",
       "  0.4756017029285431,\n",
       "  0.4810647666454315,\n",
       "  0.4646070897579193,\n",
       "  0.4692181944847107,\n",
       "  0.46020665764808655,\n",
       "  0.45938122272491455,\n",
       "  0.4573298692703247],\n",
       " 'accuracy': [0.771824836730957,\n",
       "  0.7729126811027527,\n",
       "  0.7807995676994324,\n",
       "  0.7821593880653381,\n",
       "  0.77699214220047,\n",
       "  0.785150945186615,\n",
       "  0.7886864542961121,\n",
       "  0.7829752564430237,\n",
       "  0.788414478302002,\n",
       "  0.7946695685386658],\n",
       " 'val_loss': [0.5183098912239075,\n",
       "  0.5004154443740845,\n",
       "  0.49381008744239807,\n",
       "  0.46954312920570374,\n",
       "  0.46469393372535706,\n",
       "  0.5162662863731384,\n",
       "  0.47200480103492737,\n",
       "  0.4790700674057007,\n",
       "  0.46971556544303894,\n",
       "  0.46269887685775757],\n",
       " 'val_accuracy': [0.7549019455909729,\n",
       "  0.7636165618896484,\n",
       "  0.7538126111030579,\n",
       "  0.7930282950401306,\n",
       "  0.7843137383460999,\n",
       "  0.7647058963775635,\n",
       "  0.7930282950401306,\n",
       "  0.7788671255111694,\n",
       "  0.772331178188324,\n",
       "  0.7908496856689453]}"
      ]
     },
     "execution_count": 17,
     "metadata": {},
     "output_type": "execute_result"
    }
   ],
   "source": [
    "hist3.history"
   ]
  },
  {
   "cell_type": "markdown",
   "id": "bbdb11f2-dca9-465d-b16e-a6ea1ac483d8",
   "metadata": {},
   "source": [
    "# Question 5"
   ]
  },
  {
   "cell_type": "code",
   "execution_count": 20,
   "id": "b3e6dee1-a1e9-4a6a-9e65-cf42f07c27db",
   "metadata": {
    "execution": {
     "iopub.execute_input": "2023-11-15T07:43:55.547623Z",
     "iopub.status.busy": "2023-11-15T07:43:55.547244Z",
     "iopub.status.idle": "2023-11-15T07:43:55.553056Z",
     "shell.execute_reply": "2023-11-15T07:43:55.552220Z",
     "shell.execute_reply.started": "2023-11-15T07:43:55.547599Z"
    },
    "tags": []
   },
   "outputs": [
    {
     "data": {
      "text/plain": [
       "0.48465280830860136"
      ]
     },
     "execution_count": 20,
     "metadata": {},
     "output_type": "execute_result"
    }
   ],
   "source": [
    "np.mean(hist3.history['val_loss'])"
   ]
  },
  {
   "cell_type": "markdown",
   "id": "57bb285c-9fac-48d5-92ef-c52386e7be5c",
   "metadata": {},
   "source": [
    "# Question 6"
   ]
  },
  {
   "cell_type": "code",
   "execution_count": 21,
   "id": "0b704b11-1dfd-46f4-a4e5-bdfcfd4ffb46",
   "metadata": {
    "execution": {
     "iopub.execute_input": "2023-11-15T07:43:57.867478Z",
     "iopub.status.busy": "2023-11-15T07:43:57.867091Z",
     "iopub.status.idle": "2023-11-15T07:43:57.872640Z",
     "shell.execute_reply": "2023-11-15T07:43:57.871906Z",
     "shell.execute_reply.started": "2023-11-15T07:43:57.867451Z"
    },
    "tags": []
   },
   "outputs": [
    {
     "data": {
      "text/plain": [
       "0.7799564361572265"
      ]
     },
     "execution_count": 21,
     "metadata": {},
     "output_type": "execute_result"
    }
   ],
   "source": [
    "np.mean(hist3.history['val_accuracy'][5:])"
   ]
  },
  {
   "cell_type": "code",
   "execution_count": null,
   "id": "bdd9f751-954f-4520-a1e1-f3cf0224d671",
   "metadata": {},
   "outputs": [],
   "source": []
  }
 ],
 "metadata": {
  "kernelspec": {
   "display_name": "Python 3 (ipykernel)",
   "language": "python",
   "name": "python3"
  },
  "language_info": {
   "codemirror_mode": {
    "name": "ipython",
    "version": 3
   },
   "file_extension": ".py",
   "mimetype": "text/x-python",
   "name": "python",
   "nbconvert_exporter": "python",
   "pygments_lexer": "ipython3",
   "version": "3.10.6"
  }
 },
 "nbformat": 4,
 "nbformat_minor": 5
}
